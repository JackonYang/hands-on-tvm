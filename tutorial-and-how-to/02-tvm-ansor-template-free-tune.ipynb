{
 "cells": [
  {
   "attachments": {},
   "cell_type": "markdown",
   "metadata": {},
   "source": [
    "# TVM Ansor: Template-Free Auto-Tuning for Deep Learning Models\n",
    "\n",
    "要点：\n",
    "1. 使用 ansor (tvm.auto_scheduler) 自动优化 AlexNet 模型。\n",
    "2. 搜索 5min，模型加速 2x。硬件: Intel(R) Xeon(R) Gold 5320 CPU。\n",
    "\n",
    "备注：\n",
    "\n",
    "1. 模型优化相关的代码，一共不到 10 行代码。上手非常简单。\n",
    "2. ansor 是 template free 的优化器，不要求理解模型和硬件。新人友好。"
   ]
  },
  {
   "attachments": {},
   "cell_type": "markdown",
   "metadata": {},
   "source": [
    "# 1. 准备模型 & 测试数据\n",
    "\n",
    "1. 使用 Pytorch 的 AlexNet。最简单的 CNN 模型。\n",
    "2. 更大的模型也可以，但 ansor 的搜索时间更久，也不方便对比优化前后的差异，不适合学习使用。\n"
   ]
  },
  {
   "cell_type": "code",
   "execution_count": 1,
   "metadata": {},
   "outputs": [
    {
     "name": "stdout",
     "output_type": "stream",
     "text": [
      "tvm versin: 0.13.dev0\n"
     ]
    }
   ],
   "source": [
    "import tvm\n",
    "from tvm import relay\n",
    "from tvm.contrib import graph_executor\n",
    "# from tvm.ir.module import IRModule\n",
    "\n",
    "import numpy as np\n",
    "\n",
    "import torch\n",
    "import torchvision\n",
    "from torchvision import transforms\n",
    "\n",
    "from tvm import auto_scheduler\n",
    "\n",
    "from PIL import Image\n",
    "\n",
    "print('tvm versin: %s' % tvm.__version__)"
   ]
  },
  {
   "cell_type": "code",
   "execution_count": 2,
   "metadata": {},
   "outputs": [
    {
     "data": {
      "text/plain": [
       "AlexNet(\n",
       "  (features): Sequential(\n",
       "    (0): Conv2d(3, 64, kernel_size=(11, 11), stride=(4, 4), padding=(2, 2))\n",
       "    (1): ReLU(inplace=True)\n",
       "    (2): MaxPool2d(kernel_size=3, stride=2, padding=0, dilation=1, ceil_mode=False)\n",
       "    (3): Conv2d(64, 192, kernel_size=(5, 5), stride=(1, 1), padding=(2, 2))\n",
       "    (4): ReLU(inplace=True)\n",
       "    (5): MaxPool2d(kernel_size=3, stride=2, padding=0, dilation=1, ceil_mode=False)\n",
       "    (6): Conv2d(192, 384, kernel_size=(3, 3), stride=(1, 1), padding=(1, 1))\n",
       "    (7): ReLU(inplace=True)\n",
       "    (8): Conv2d(384, 256, kernel_size=(3, 3), stride=(1, 1), padding=(1, 1))\n",
       "    (9): ReLU(inplace=True)\n",
       "    (10): Conv2d(256, 256, kernel_size=(3, 3), stride=(1, 1), padding=(1, 1))\n",
       "    (11): ReLU(inplace=True)\n",
       "    (12): MaxPool2d(kernel_size=3, stride=2, padding=0, dilation=1, ceil_mode=False)\n",
       "  )\n",
       "  (avgpool): AdaptiveAvgPool2d(output_size=(6, 6))\n",
       "  (classifier): Sequential(\n",
       "    (0): Dropout(p=0.5, inplace=False)\n",
       "    (1): Linear(in_features=9216, out_features=4096, bias=True)\n",
       "    (2): ReLU(inplace=True)\n",
       "    (3): Dropout(p=0.5, inplace=False)\n",
       "    (4): Linear(in_features=4096, out_features=4096, bias=True)\n",
       "    (5): ReLU(inplace=True)\n",
       "    (6): Linear(in_features=4096, out_features=1000, bias=True)\n",
       "  )\n",
       ")"
      ]
     },
     "execution_count": 2,
     "metadata": {},
     "output_type": "execute_result"
    }
   ],
   "source": [
    "model = torchvision.models.alexnet(weights='IMAGENET1K_V1')\n",
    "# model = torchvision.models.resnet18(weights='IMAGENET1K_V1')\n",
    "model = model.eval()\n",
    "model"
   ]
  },
  {
   "cell_type": "code",
   "execution_count": 3,
   "metadata": {},
   "outputs": [],
   "source": [
    "img_path = 'test-data/cat.png'\n",
    "img = Image.open(img_path).resize((224, 224))\n",
    "\n",
    "my_preprocess = transforms.Compose(\n",
    "    [\n",
    "        transforms.Resize(256),\n",
    "        transforms.CenterCrop(224),\n",
    "        transforms.ToTensor(),\n",
    "        transforms.Normalize(mean=[0.485, 0.456, 0.406], std=[0.229, 0.224, 0.225]),\n",
    "    ]\n",
    ")\n",
    "img = my_preprocess(img)\n",
    "# 新增Batch维度\n",
    "img = np.expand_dims(img, 0)"
   ]
  },
  {
   "cell_type": "code",
   "execution_count": 4,
   "metadata": {},
   "outputs": [],
   "source": [
    "# export to TorchScripted model, so that we can use it in TVM\n",
    "img_input_name = 'input0'\n",
    "img_shape = [1, 3, 224, 224]\n",
    "input_shapes = [(img_input_name, img_shape)]\n",
    "\n",
    "input_data = torch.randn(img_shape)\n",
    "scripted_model = torch.jit.trace(model, input_data).eval()"
   ]
  },
  {
   "cell_type": "code",
   "execution_count": 5,
   "metadata": {},
   "outputs": [
    {
     "name": "stdout",
     "output_type": "stream",
     "text": [
      "Torch top-1 id: 285\n"
     ]
    }
   ],
   "source": [
    "with torch.no_grad():\n",
    "    torch_img = torch.from_numpy(img)\n",
    "    output = model(torch_img)\n",
    "\n",
    "    # Get top-1 result for PyTorch\n",
    "    top1_torch = np.argmax(output.numpy())\n",
    "    print('Torch top-1 id: %d' % top1_torch)"
   ]
  },
  {
   "attachments": {},
   "cell_type": "markdown",
   "metadata": {},
   "source": [
    "# 2. baseline 性能 - 只编译，不优化"
   ]
  },
  {
   "cell_type": "code",
   "execution_count": 6,
   "metadata": {},
   "outputs": [
    {
     "name": "stderr",
     "output_type": "stream",
     "text": [
      "One or more operators have not been tuned. Please tune your model for better performance. Use DEBUG logging level to see more details.\n"
     ]
    }
   ],
   "source": [
    "mod, params = relay.frontend.from_pytorch(scripted_model, input_shapes)\n",
    "\n",
    "target = 'llvm'\n",
    "# compile the model\n",
    "with tvm.transform.PassContext(opt_level=2):\n",
    "    lib = relay.build(mod, target=target, params=params)"
   ]
  },
  {
   "cell_type": "code",
   "execution_count": 7,
   "metadata": {},
   "outputs": [],
   "source": [
    "# run the model\n",
    "def run_model(lib):\n",
    "    m = graph_executor.GraphModule(lib[\"default\"](tvm.cpu(0)))\n",
    "    m.set_input(img_input_name, tvm.nd.array(img.astype('float32')))\n",
    "    m.run()\n",
    "    tvm_output = m.get_output(0)\n",
    "\n",
    "    top1_tvm_1 = np.argmax(tvm_output.numpy()[0])\n",
    "    print(\"TVM top-1 id: %s\" % top1_tvm_1)\n",
    "\n",
    "    # Evaluate\n",
    "    print(\"Evaluate inference time cost...\")\n",
    "    print(m.benchmark(tvm.cpu(0), repeat=3, min_repeat_ms=500))"
   ]
  },
  {
   "cell_type": "code",
   "execution_count": 8,
   "metadata": {},
   "outputs": [
    {
     "name": "stdout",
     "output_type": "stream",
     "text": [
      "TVM top-1 id: 285\n",
      "Evaluate inference time cost...\n",
      "Execution time summary:\n",
      " mean (ms)   median (ms)    max (ms)     min (ms)     std (ms)  \n",
      "  50.7338      53.8374      56.0268      42.3371       6.0042                  \n"
     ]
    }
   ],
   "source": [
    "run_model(lib)"
   ]
  },
  {
   "attachments": {},
   "cell_type": "markdown",
   "metadata": {},
   "source": [
    "# 3. 使用 ansor 自动优化\n",
    "\n",
    "1. ansor 一共生成了 12 个 task。\n",
    "2. tune_option 的 num_measure_trials 参数，不能小于 task 数，所以，最小是 12 次。\n",
    "3. num_measure_trials 参数，越大，搜索时间越长，模型性能越好。\n",
    "4. 本例中，使用最小搜索次数 12 次，搜索 5min，模型加速 2x。"
   ]
  },
  {
   "cell_type": "code",
   "execution_count": 9,
   "metadata": {},
   "outputs": [],
   "source": [
    "target = tvm.target.Target(\"llvm -mcpu=skylake-avx512\")\n",
    "tasks, task_weights = auto_scheduler.extract_tasks(mod[\"main\"], params, target)"
   ]
  },
  {
   "cell_type": "code",
   "execution_count": 10,
   "metadata": {},
   "outputs": [
    {
     "name": "stdout",
     "output_type": "stream",
     "text": [
      "p0 = PLACEHOLDER [1, 1, 224, 224, 3]\n",
      "data_pad(i0, i1, i2, i3, i4) = tir.if_then_else(((((i2 >= 2) && (i2 < 226)) && (i3 >= 2)) && (i3 < 226)), p0[i0, i1, (i2 - 2), (i3 - 2), i4], 0f)\n",
      "p1 = PLACEHOLDER [4, 1, 11, 11, 3, 16]\n",
      "conv2d_NCHWc(n, oc_chunk, oh, ow, oc_block) += (data_pad[n, floordiv(ic, 3), ((oh*4) + kh), ((ow*4) + kw), floormod(ic, 3)]*p1[oc_chunk, floordiv(ic, 3), kh, kw, floormod(ic, 3), oc_block])\n",
      "p2 = PLACEHOLDER [1, 4, 1, 1, 16]\n",
      "T_add(ax0, ax1, ax2, ax3, ax4) = (conv2d_NCHWc[ax0, ax1, ax2, ax3, ax4] + p2[ax0, ax1, 0, 0, ax4])\n",
      "T_relu(ax0, ax1, ax2, ax3, ax4) = max(T_add[ax0, ax1, ax2, ax3, ax4], 0f)\n",
      "\n"
     ]
    }
   ],
   "source": [
    "# example of generated tasks\n",
    "print(tasks[0].compute_dag)"
   ]
  },
  {
   "cell_type": "code",
   "execution_count": 11,
   "metadata": {},
   "outputs": [],
   "source": [
    "log_file = \"tune-alexnet.json\"\n",
    "\n",
    "tuner = auto_scheduler.TaskScheduler(tasks, task_weights)\n",
    "\n",
    "tune_option = auto_scheduler.TuningOptions(\n",
    "    num_measure_trials=max(len(tasks), 1),  # change this to 20000 to achieve the best performance\n",
    "    runner=auto_scheduler.LocalRunner(repeat=0, enable_cpu_cache_flush=True),\n",
    "    measure_callbacks=[auto_scheduler.RecordToFile(log_file)],\n",
    ")"
   ]
  },
  {
   "cell_type": "code",
   "execution_count": 12,
   "metadata": {},
   "outputs": [
    {
     "name": "stdout",
     "output_type": "stream",
     "text": [
      "|  ID  |                       Task Description                        | Latency (ms) | Speed (GFLOPS) | Trials |----------------------------------------------------------------------\n",
      "\n",
      "-----------------------------------------------------------------------------------------------------------------\n",
      "|    0 |              vm_mod_fused_nn_contrib_conv2d_NCHWc_add_nn_relu |            - |              - |      0 |\n",
      "|    1 |                                     vm_mod_fused_nn_dense_add |            - |              - |      0 |\n",
      "|    2 |            vm_mod_fused_nn_contrib_conv2d_NCHWc_add_nn_relu_1 |            - |              - |      0 |\n",
      "------------------------------  [ Task Scheduler ]\n",
      "----------------------------------------------------------------------\n",
      "|    3 |                                  vm_mod_fused_nn_max_pool2d_2 |            - |              - |      0 |\n",
      "|    4 |                           vm_mod_fused_nn_dense_add_nn_relu_1 |            - |              - |      0 |\n",
      "|    5 |            vm_mod_fused_nn_contrib_conv2d_NCHWc_add_nn_relu_2 |            - |              - |      0 |\n",
      "|    6 |                                  vm_mod_fused_nn_max_pool2d_1 |            - |              - |      0 |\n",
      "|    7 |                             vm_mod_fused_nn_dense_add_nn_relu |            - |              - |      0 |\n",
      "|    8 |                           vm_mod_fused_nn_adaptive_avg_pool2d |            - |              - |      0 |\n",
      "|    9 |            vm_mod_fused_nn_contrib_conv2d_NCHWc_add_nn_relu_3 |            - |              - |      0 |\n",
      "|   10 |                                    vm_mod_fused_nn_max_pool2d |            - |              - |      0 |\n",
      "|   11 |            vm_mod_fused_nn_contrib_conv2d_NCHWc_add_nn_relu_4 |            - |              - |      0 |\n",
      "-----------------------------------------------------------------------------------------------------------------\n",
      "Estimated total latency: - ms\tTrials: 0\tUsed time : 0 s\tNext ID: 0\t\n",
      "----------------------------------------------------------------------\n",
      "------------------------------  [ Search ]\n",
      "----------------------------------------------------------------------\n",
      "Generate Sketches\t\t#s: 3\n",
      "Sample Initial Population\t#s: 1707\tfail_ct: 9\tTime elapsed: 6.70\n",
      "GA Iter: 0\tMax score: 0.9996\tMin score: 0.9996\t#Pop: 2\t#M+: 0\t#M-: 0\n",
      "GA Iter: 4\tMax score: 0.9997\tMin score: 0.9996\t#Pop: 2\t#M+: 1381\t#M-: 37\n",
      "EvolutionarySearch\t\t#s: 2\tTime elapsed: 29.43\n",
      "----------------------------------------------------------------------\n",
      "------------------------------  [ Measure ]\n",
      "----------------------------------------------------------------------\n",
      "Get 1 programs to measure:\n",
      ".*E\n"
     ]
    },
    {
     "name": "stderr",
     "output_type": "stream",
     "text": [
      "/home/yangjiekun/venv-py3/lib/python3.7/site-packages/numpy/core/fromnumeric.py:3441: RuntimeWarning: Mean of empty slice.\n",
      "  out=out, **kwargs)\n",
      "/home/yangjiekun/venv-py3/lib/python3.7/site-packages/numpy/core/_methods.py:189: RuntimeWarning: invalid value encountered in double_scalars\n",
      "  ret = ret.dtype.type(ret / rcount)\n",
      "/home/yangjiekun/venv-py3/lib/python3.7/site-packages/numpy/core/_methods.py:263: RuntimeWarning: Degrees of freedom <= 0 for slice\n",
      "  keepdims=keepdims, where=where)\n",
      "/home/yangjiekun/venv-py3/lib/python3.7/site-packages/numpy/core/_methods.py:223: RuntimeWarning: invalid value encountered in true_divide\n",
      "  subok=False)\n",
      "/home/yangjiekun/venv-py3/lib/python3.7/site-packages/numpy/core/_methods.py:254: RuntimeWarning: invalid value encountered in double_scalars\n",
      "  ret = ret.dtype.type(ret / rcount)\n"
     ]
    },
    {
     "name": "stdout",
     "output_type": "stream",
     "text": [
      "Time elapsed for measurement: 2.41 s\n",
      "----------------------------------------------------------------------\n",
      "------------------------------  [ Train cost model ]\n",
      "----------------------------------------------------------------------\n",
      "Time elapsed for training: 4.42 s\n",
      "----------------------------------------------------------------------\n",
      "|  ID  |                       Task Description                        | Latency (ms) | Speed (GFLOPS) | Trials |\n",
      "-----------------------------------------------------------------------------------------------------------------\n",
      "------------------------------  [ Task Scheduler ]\n",
      "----------------------------------------------------------------------\n",
      "|    0 |              vm_mod_fused_nn_contrib_conv2d_NCHWc_add_nn_relu |            - |              - |      1 |\n",
      "|    1 |                                     vm_mod_fused_nn_dense_add |            - |              - |      0 |\n",
      "|    2 |            vm_mod_fused_nn_contrib_conv2d_NCHWc_add_nn_relu_1 |            - |              - |      0 |\n",
      "|    3 |                                  vm_mod_fused_nn_max_pool2d_2 |            - |              - |      0 |\n",
      "|    4 |                           vm_mod_fused_nn_dense_add_nn_relu_1 |            - |              - |      0 |\n",
      "|    5 |            vm_mod_fused_nn_contrib_conv2d_NCHWc_add_nn_relu_2 |            - |              - |      0 |\n",
      "|    6 |                                  vm_mod_fused_nn_max_pool2d_1 |            - |              - |      0 |\n",
      "|    7 |                             vm_mod_fused_nn_dense_add_nn_relu |            - |              - |      0 |\n",
      "|    8 |                           vm_mod_fused_nn_adaptive_avg_pool2d |            - |              - |      0 |\n",
      "|    9 |            vm_mod_fused_nn_contrib_conv2d_NCHWc_add_nn_relu_3 |            - |              - |      0 |\n",
      "|   10 |                                    vm_mod_fused_nn_max_pool2d |            - |              - |      0 |\n",
      "|   11 |            vm_mod_fused_nn_contrib_conv2d_NCHWc_add_nn_relu_4 |            - |              - |      0 |\n",
      "-----------------------------------------------------------------------------------------------------------------\n",
      "Estimated total latency: - ms\tTrials: 1\tUsed time : 43 s\tNext ID: 1\t\n",
      "----------------------------------------------------------------------\n",
      "------------------------------  [ Search ]\n",
      "----------------------------------------------------------------------\n",
      "Generate Sketches\t\t#s: 3\n",
      "Sample Initial Population\t#s: 1634\tfail_ct: 246\tTime elapsed: 1.52\n",
      "GA Iter: 0\tMax score: 0.9996\tMin score: 0.9994\t#Pop: 2\t#M+: 0\t#M-: 0\n",
      "GA Iter: 4\tMax score: 1.0000\tMin score: 0.9999\t#Pop: 2\t#M+: 1372\t#M-: 70\n",
      "EvolutionarySearch\t\t#s: 2\tTime elapsed: 6.16\n",
      "----------------------------------------------------------------------\n",
      "------------------------------  [ Measure ]\n",
      "----------------------------------------------------------------------\n",
      "Get 1 programs to measure:\n",
      ".*E\n"
     ]
    },
    {
     "name": "stderr",
     "output_type": "stream",
     "text": [
      "/home/yangjiekun/venv-py3/lib/python3.7/site-packages/numpy/core/fromnumeric.py:3441: RuntimeWarning: Mean of empty slice.\n",
      "  out=out, **kwargs)\n",
      "/home/yangjiekun/venv-py3/lib/python3.7/site-packages/numpy/core/_methods.py:189: RuntimeWarning: invalid value encountered in double_scalars\n",
      "  ret = ret.dtype.type(ret / rcount)\n",
      "/home/yangjiekun/venv-py3/lib/python3.7/site-packages/numpy/core/_methods.py:263: RuntimeWarning: Degrees of freedom <= 0 for slice\n",
      "  keepdims=keepdims, where=where)\n",
      "/home/yangjiekun/venv-py3/lib/python3.7/site-packages/numpy/core/_methods.py:223: RuntimeWarning: invalid value encountered in true_divide\n",
      "  subok=False)\n",
      "/home/yangjiekun/venv-py3/lib/python3.7/site-packages/numpy/core/_methods.py:254: RuntimeWarning: invalid value encountered in double_scalars\n",
      "  ret = ret.dtype.type(ret / rcount)\n"
     ]
    },
    {
     "name": "stdout",
     "output_type": "stream",
     "text": [
      "Time elapsed for measurement: 2.10 s\n",
      "----------------------------------------------------------------------\n",
      "------------------------------  [ Train cost model ]\n",
      "----------------------------------------------------------------------\n",
      "Time elapsed for training: 0.50 s\n",
      "----------------------------------------------------------------------\n",
      "|  ID  |                       Task Description                        | Latency (ms) | Speed (GFLOPS) | Trials |\n",
      "-----------------------------------------------------------------------------------------------------------------\n",
      "------------------------------  [ Task Scheduler ]\n",
      "----------------------------------------------------------------------\n",
      "|    0 |              vm_mod_fused_nn_contrib_conv2d_NCHWc_add_nn_relu |            - |              - |      1 |\n",
      "|    1 |                                     vm_mod_fused_nn_dense_add |            - |              - |      1 |\n",
      "|    2 |            vm_mod_fused_nn_contrib_conv2d_NCHWc_add_nn_relu_1 |            - |              - |      0 |\n",
      "|    3 |                                  vm_mod_fused_nn_max_pool2d_2 |            - |              - |      0 |\n",
      "|    4 |                           vm_mod_fused_nn_dense_add_nn_relu_1 |            - |              - |      0 |\n",
      "|    5 |            vm_mod_fused_nn_contrib_conv2d_NCHWc_add_nn_relu_2 |            - |              - |      0 |\n",
      "|    6 |                                  vm_mod_fused_nn_max_pool2d_1 |            - |              - |      0 |\n",
      "|    7 |                             vm_mod_fused_nn_dense_add_nn_relu |            - |              - |      0 |\n",
      "|    8 |                           vm_mod_fused_nn_adaptive_avg_pool2d |            - |              - |      0 |\n",
      "|    9 |            vm_mod_fused_nn_contrib_conv2d_NCHWc_add_nn_relu_3 |            - |              - |      0 |\n",
      "|   10 |                                    vm_mod_fused_nn_max_pool2d |            - |              - |      0 |\n",
      "|   11 |            vm_mod_fused_nn_contrib_conv2d_NCHWc_add_nn_relu_4 |            - |              - |      0 |\n",
      "-----------------------------------------------------------------------------------------------------------------\n",
      "Estimated total latency: - ms\tTrials: 2\tUsed time : 53 s\tNext ID: 2\t\n",
      "----------------------------------------------------------------------\n",
      "------------------------------  [ Search ]\n",
      "----------------------------------------------------------------------\n",
      "Generate Sketches\t\t#s: 3\n",
      "Sample Initial Population\t#s: 1783\tfail_ct: 0\tTime elapsed: 6.94\n",
      "GA Iter: 0\tMax score: 0.9999\tMin score: 0.9998\t#Pop: 2\t#M+: 0\t#M-: 0\n"
     ]
    }
   ],
   "source": [
    "# long time to tune. 5min at least\n",
    "tuner.tune(tune_option)"
   ]
  },
  {
   "cell_type": "code",
   "execution_count": null,
   "metadata": {},
   "outputs": [],
   "source": [
    "# compile with history best schedule found by the auto-tuner\n",
    "with auto_scheduler.ApplyHistoryBest(log_file):\n",
    "    with tvm.transform.PassContext(opt_level=3, config={\"relay.backend.use_auto_scheduler\": True}):\n",
    "        lib2 = relay.build(mod, target=target, params=params)"
   ]
  },
  {
   "cell_type": "code",
   "execution_count": 14,
   "metadata": {},
   "outputs": [
    {
     "name": "stdout",
     "output_type": "stream",
     "text": [
      "TVM top-1 id: 285\n",
      "Evaluate inference time cost...\n",
      "Execution time summary:\n",
      " mean (ms)   median (ms)    max (ms)     min (ms)     std (ms)  \n",
      "  23.2872      23.4433      24.2642      22.1540       0.8686                  \n"
     ]
    }
   ],
   "source": [
    "# run the tuned best model\n",
    "run_model(lib2)"
   ]
  },
  {
   "cell_type": "code",
   "execution_count": 15,
   "metadata": {},
   "outputs": [
    {
     "name": "stdout",
     "output_type": "stream",
     "text": [
      "TVM top-1 id: 285\n",
      "Evaluate inference time cost...\n",
      "Execution time summary:\n",
      " mean (ms)   median (ms)    max (ms)     min (ms)     std (ms)  \n",
      "  41.6403      41.6573      41.6620      41.6017       0.0274                  \n"
     ]
    }
   ],
   "source": [
    "# to compare the performance, re-run model before auto-scheduler\n",
    "run_model(lib)"
   ]
  },
  {
   "cell_type": "code",
   "execution_count": null,
   "metadata": {},
   "outputs": [],
   "source": []
  }
 ],
 "metadata": {
  "kernelspec": {
   "display_name": "venv-py3",
   "language": "python",
   "name": "python3"
  },
  "language_info": {
   "codemirror_mode": {
    "name": "ipython",
    "version": 3
   },
   "file_extension": ".py",
   "mimetype": "text/x-python",
   "name": "python",
   "nbconvert_exporter": "python",
   "pygments_lexer": "ipython3",
   "version": "3.7.14"
  },
  "orig_nbformat": 4
 },
 "nbformat": 4,
 "nbformat_minor": 2
}
