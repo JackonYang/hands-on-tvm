{
 "cells": [
  {
   "attachments": {},
   "cell_type": "markdown",
   "metadata": {
    "id": "Mpn1ti5Urdsv"
   },
   "source": [
    "# Ep5: Automatic Program Optimization\n",
    "\n",
    "tvm 的精髓：autotvm & ansor。\n",
    "\n",
    "1. 使用 `meta_schedule.tune_tir` API，可以自动搜索最优的 schedule。\n",
    "2. 调用 `tune_tir` 时，可以手动指定 search space，但，如果写的太简单了，效果很可能不如默认版本。\n",
    "3. 可以把 Model 里的特定算子拿出来，单独调用 `tune_tir` 优化，并把优化后的算子，放回 Model。\n",
    "\n",
    "备注：\n",
    "\n",
    "1. 原课程花了大量篇幅讲采样搜索的最优化方法。实际，对应的 TVM API 很简单。熟悉最优化理论的，直接看 API 就够了。\n",
    "2. 搜索算法，依赖 xgboost。 `pip install xgboost`"
   ]
  },
  {
   "cell_type": "code",
   "execution_count": 1,
   "metadata": {
    "id": "BVp0fHyRkYj6"
   },
   "outputs": [
    {
     "name": "stdout",
     "output_type": "stream",
     "text": [
      "tvm versin: 0.13.dev0\n"
     ]
    }
   ],
   "source": [
    "import tvm\n",
    "from tvm.ir.module import IRModule\n",
    "\n",
    "from tvm.script import tir as T, relax as R\n",
    "from tvm import te\n",
    "\n",
    "from tvm import relax\n",
    "# This is needed for deferring annotation parsing in TVMScript\n",
    "from __future__ import annotations \n",
    "\n",
    "import torch\n",
    "\n",
    "import numpy as np\n",
    "import pickle\n",
    "\n",
    "print('tvm versin: %s' % tvm.__version__)"
   ]
  },
  {
   "attachments": {},
   "cell_type": "markdown",
   "metadata": {
    "id": "8yH4IMSMvF9o"
   },
   "source": [
    "## 1. 高性能算子的最优化搜索\n",
    "\n",
    "single tensor primitive function 的 loop 优化\n",
    "\n",
    "- 原始算子: 1.531 ms\n",
    "- 手动优化: 0.324 ms\n",
    "- 自动优化 - 指定 search space: 0.105 ms (不稳定)\n",
    "- 自动优化 - 默认 search space: 0.096 ms (见过 0.03 以下)\n",
    "\n",
    "### 1.1 原始的算子实现"
   ]
  },
  {
   "cell_type": "code",
   "execution_count": 2,
   "metadata": {
    "id": "zlvL1Zfkt9A4"
   },
   "outputs": [],
   "source": [
    "@tvm.script.ir_module\n",
    "class MyModule:\n",
    "    @T.prim_func\n",
    "    def main(\n",
    "        A: T.Buffer((128, 128), \"float32\"),\n",
    "        B: T.Buffer((128, 128), \"float32\"),\n",
    "        C: T.Buffer((128, 128), \"float32\"),\n",
    "    ):\n",
    "        T.func_attr({\"global_symbol\": \"main\", \"tir.noalias\": True})\n",
    "        for i, j, k in T.grid(128, 128, 128):\n",
    "            with T.block(\"C\"):\n",
    "                vi, vj, vk = T.axis.remap(\"SSR\", [i, j, k])\n",
    "                with T.init():\n",
    "                    C[vi, vj] = 0.0\n",
    "                C[vi, vj] = C[vi, vj] + A[vi, vk] * B[vk, vj]"
   ]
  },
  {
   "attachments": {},
   "cell_type": "markdown",
   "metadata": {
    "id": "6gtnHe0KcMGO"
   },
   "source": [
    "First, let us define a set of inputs and outputs for evaluation."
   ]
  },
  {
   "cell_type": "code",
   "execution_count": 3,
   "metadata": {
    "id": "qVfi2Rb6Ch6t"
   },
   "outputs": [],
   "source": [
    "dtype = \"float32\"\n",
    "a_np = np.random.rand(128, 128).astype(dtype)\n",
    "b_np = np.random.rand(128, 128).astype(dtype)\n",
    "c_mm = a_np @ b_np\n",
    "\n",
    "a_nd = tvm.nd.array(a_np)\n",
    "b_nd = tvm.nd.array(b_np)\n",
    "c_nd = tvm.nd.empty((128, 128), dtype=\"float32\")"
   ]
  },
  {
   "attachments": {},
   "cell_type": "markdown",
   "metadata": {
    "id": "LxUn0qMZcQYp"
   },
   "source": [
    "We can build and run `MyModule` as follows.\n",
    "\n",
    "\n",
    "\n"
   ]
  },
  {
   "cell_type": "code",
   "execution_count": 4,
   "metadata": {
    "colab": {
     "base_uri": "https://localhost:8080/"
    },
    "id": "rexBtll-CFtA",
    "outputId": "46264544-5b84-45f3-d6c3-62758a43a960"
   },
   "outputs": [
    {
     "name": "stdout",
     "output_type": "stream",
     "text": [
      "Time cost of MyModule: 1.433 ms\n"
     ]
    }
   ],
   "source": [
    "lib = tvm.build(MyModule, target=\"llvm\")\n",
    "f_timer_before = lib.time_evaluator(\"main\", tvm.cpu())\n",
    "print(\"Time cost of MyModule: %.3f ms\" % (f_timer_before(a_nd, b_nd, c_nd).mean * 1000))"
   ]
  },
  {
   "attachments": {},
   "cell_type": "markdown",
   "metadata": {},
   "source": [
    "### 1.2 手动优化"
   ]
  },
  {
   "cell_type": "code",
   "execution_count": 5,
   "metadata": {
    "id": "ANEDn2_BCF3F"
   },
   "outputs": [],
   "source": [
    "def schedule_mm(sch: tvm.tir.Schedule, jfactor=4):\n",
    "    block_C = sch.get_block(\"C\", \"main\")\n",
    "    i, j, k = sch.get_loops(block=block_C)\n",
    "    j_0, j_1 = sch.split(loop=j, factors=[None, jfactor])\n",
    "    sch.reorder(i, j_0, k, j_1)\n",
    "    sch.decompose_reduction(block_C, k)\n",
    "    return sch"
   ]
  },
  {
   "cell_type": "code",
   "execution_count": 6,
   "metadata": {
    "colab": {
     "base_uri": "https://localhost:8080/",
     "height": 451
    },
    "id": "lxXbTgv0CGAH",
    "outputId": "01b3c601-bced-45c4-c4b3-567b4d18411a"
   },
   "outputs": [
    {
     "name": "stdout",
     "output_type": "stream",
     "text": [
      "Time cost of MyModule=>schedule_mm: 0.326 ms\n"
     ]
    }
   ],
   "source": [
    "sch = tvm.tir.Schedule(MyModule)\n",
    "sch = schedule_mm(sch)\n",
    "# sch.mod.show()\n",
    "\n",
    "lib = tvm.build(sch.mod, target=\"llvm\")\n",
    "f_timer_after = lib.time_evaluator(\"main\", tvm.cpu())\n",
    "print(\"Time cost of MyModule=>schedule_mm: %.3f ms\" % (f_timer_after(a_nd, b_nd, c_nd).mean * 1000))"
   ]
  },
  {
   "attachments": {},
   "cell_type": "markdown",
   "metadata": {
    "id": "akr8gTA0eAx3"
   },
   "source": [
    "### 1.3 定义搜索空间，自动搜索\n",
    "\n",
    "很简单，就 2 步：\n",
    "1. 基于 `sch.sample_perfect_tile` API 随机采样。trace 时输出的 `decision=[...]`，是最近一次执行的采样结果，即，当前使用的采样结果。\n",
    "2. 使用 `meta_schedule.tune_tir` API，基于 xgboost，进行最优化搜索"
   ]
  },
  {
   "cell_type": "code",
   "execution_count": 7,
   "metadata": {
    "id": "8Ng-7squwqd_"
   },
   "outputs": [],
   "source": [
    "def stochastic_schedule_mm(sch: tvm.tir.Schedule):\n",
    "    block_C = sch.get_block(\"C\", \"main\")\n",
    "    i, j, k = sch.get_loops(block=block_C)\n",
    "\n",
    "    # sample j_factors so that we can generate a search space and pick the best one\n",
    "    j_factors = sch.sample_perfect_tile(loop=j, n=2)\n",
    "    # type(j_factors[0]): tvm.tir.expr.Var\n",
    "\n",
    "    j_0, j_1 = sch.split(loop=j, factors=j_factors)\n",
    "    sch.reorder(i, j_0, k, j_1)\n",
    "    sch.decompose_reduction(block_C, k)\n",
    "    return sch"
   ]
  },
  {
   "cell_type": "code",
   "execution_count": 8,
   "metadata": {
    "colab": {
     "base_uri": "https://localhost:8080/",
     "height": 451
    },
    "id": "eIdBEtbzwwjj",
    "outputId": "8613ec1f-3d04-4eb5-f166-fef61ce5db51"
   },
   "outputs": [
    {
     "name": "stdout",
     "output_type": "stream",
     "text": [
      "# from tvm import tir\n",
      "def apply_trace(sch: tir.Schedule) -> None:\n",
      "  b0 = sch.get_block(name=\"C\", func_name=\"main\")\n",
      "  l1, l2, l3 = sch.get_loops(block=b0)\n",
      "  v4, v5 = sch.sample_perfect_tile(loop=l2, n=2, max_innermost_factor=16, decision=[64, 2])\n",
      "  l6, l7 = sch.split(loop=l2, factors=[v4, v5], preserve_unit_iters=True)\n",
      "  sch.reorder(l1, l6, l3, l7)\n",
      "  b8 = sch.decompose_reduction(block=b0, loop=l3)\n"
     ]
    }
   ],
   "source": [
    "# re-run and trace, we can see the decision=[...] is changing\n",
    "sch = tvm.tir.Schedule(MyModule)\n",
    "sch = stochastic_schedule_mm(sch)\n",
    "\n",
    "# sch.mod.show()\n",
    "print(sch.trace)"
   ]
  },
  {
   "attachments": {},
   "cell_type": "markdown",
   "metadata": {},
   "source": [
    "使用自定义的 stochastic_schedule_mm 构造搜索空间，使用 `meta_schedule.tune_tir` API，进行最优化搜索。"
   ]
  },
  {
   "cell_type": "code",
   "execution_count": 9,
   "metadata": {
    "colab": {
     "base_uri": "https://localhost:8080/"
    },
    "id": "bnweYKKyw9M0",
    "outputId": "88f757a2-906f-4895-951a-438c994e5018"
   },
   "outputs": [
    {
     "name": "stdout",
     "output_type": "stream",
     "text": [
      "2023-06-11 08:47:08 [INFO] Logging directory: ./tune_tmp/logs\n",
      "2023-06-11 08:47:17 [INFO] LocalBuilder: max_workers = 8\n",
      "2023-06-11 08:47:17 [INFO] LocalRunner: max_workers = 1\n",
      "2023-06-11 08:47:18 [INFO] [task_scheduler.cc:159] Initializing Task #0: \"main\"\n"
     ]
    },
    {
     "data": {
      "text/html": [
       "<div>\n",
       "<style scoped>\n",
       "    .dataframe tbody tr th:only-of-type {\n",
       "        vertical-align: middle;\n",
       "    }\n",
       "\n",
       "    .dataframe tbody tr th {\n",
       "        vertical-align: top;\n",
       "    }\n",
       "\n",
       "    .dataframe thead th {\n",
       "        text-align: right;\n",
       "    }\n",
       "</style>\n",
       "<table border=\"1\" class=\"dataframe\">\n",
       "  <thead>\n",
       "    <tr style=\"text-align: right;\">\n",
       "      <th></th>\n",
       "      <th>Name</th>\n",
       "      <th>FLOP</th>\n",
       "      <th>Weight</th>\n",
       "      <th>Speed (GFLOPS)</th>\n",
       "      <th>Latency (us)</th>\n",
       "      <th>Weighted Latency (us)</th>\n",
       "      <th>Trials</th>\n",
       "      <th>Done</th>\n",
       "    </tr>\n",
       "  </thead>\n",
       "  <tbody>\n",
       "    <tr>\n",
       "      <th>0</th>\n",
       "      <td>main</td>\n",
       "      <td>4194304</td>\n",
       "      <td>1</td>\n",
       "      <td>N/A</td>\n",
       "      <td>N/A</td>\n",
       "      <td>N/A</td>\n",
       "      <td>0</td>\n",
       "      <td></td>\n",
       "    </tr>\n",
       "  </tbody>\n",
       "</table>\n",
       "</div>"
      ],
      "text/plain": [
       "    Name       FLOP    Weight    Speed (GFLOPS)    Latency (us)    \n",
       "0   main    4194304         1               N/A             N/A   \\\n",
       "\n",
       "    Weighted Latency (us)    Trials    Done   \n",
       "0                     N/A         0           "
      ]
     },
     "metadata": {},
     "output_type": "display_data"
    },
    {
     "name": "stdout",
     "output_type": "stream",
     "text": [
      "2023-06-11 08:47:18 [DEBUG] [task_scheduler.cc:318] \n",
      " ID | Name |    FLOP | Weight | Speed (GFLOPS) | Latency (us) | Weighted Latency (us) | Trials | Done \n",
      "------------------------------------------------------------------------------------------------------\n",
      "  0 | main | 4194304 |      1 |            N/A |          N/A |                   N/A |      0 |      \n",
      "------------------------------------------------------------------------------------------------------\n",
      "Total trials: 0\n",
      "Total latency (us): 0\n",
      "\n",
      "\n",
      "Total trials: 0\n",
      "Total latency (us): 0\n",
      "\n",
      "2023-06-11 08:47:18 [INFO] [task_scheduler.cc:180] TaskScheduler picks Task #0: \"main\"\n",
      "2023-06-11 08:47:19 [INFO] [task_scheduler.cc:193] Sending 62 sample(s) to builder\n",
      "2023-06-11 08:47:27 [INFO] [task_scheduler.cc:195] Sending 62 sample(s) to runner\n",
      "2023-06-11 08:48:07 [DEBUG] XGB iter   0: tr-p-rmse: 0.433670\ttr-a-peak@32: 0.997361\ttr-rmse: 0.268158\ttr-rmse: 0.268158\n",
      "2023-06-11 08:48:07 [DEBUG] XGB iter  25: tr-p-rmse: 0.052074\ttr-a-peak@32: 1.000000\ttr-rmse: 0.310049\ttr-rmse: 0.310049\n",
      "2023-06-11 08:48:07 [DEBUG] XGB iter  50: tr-p-rmse: 0.046504\ttr-a-peak@32: 1.000000\ttr-rmse: 0.310079\ttr-rmse: 0.310079\n",
      "2023-06-11 08:48:07 [DEBUG] XGB iter  75: tr-p-rmse: 0.046504\ttr-a-peak@32: 1.000000\ttr-rmse: 0.310079\ttr-rmse: 0.310079\n",
      "2023-06-11 08:48:07 [DEBUG] XGB stopped. Best iteration: [46] tr-p-rmse:0.04650\ttr-a-peak@32:1.00000\ttr-rmse:0.31008\ttr-rmse:0.31008 \n",
      "2023-06-11 08:48:07 [INFO] [task_scheduler.cc:237] [Updated] Task #0: \"main\"\n"
     ]
    },
    {
     "data": {
      "text/html": [
       "<div>\n",
       "<style scoped>\n",
       "    .dataframe tbody tr th:only-of-type {\n",
       "        vertical-align: middle;\n",
       "    }\n",
       "\n",
       "    .dataframe tbody tr th {\n",
       "        vertical-align: top;\n",
       "    }\n",
       "\n",
       "    .dataframe thead th {\n",
       "        text-align: right;\n",
       "    }\n",
       "</style>\n",
       "<table border=\"1\" class=\"dataframe\">\n",
       "  <thead>\n",
       "    <tr style=\"text-align: right;\">\n",
       "      <th></th>\n",
       "      <th>Name</th>\n",
       "      <th>FLOP</th>\n",
       "      <th>Weight</th>\n",
       "      <th>Speed (GFLOPS)</th>\n",
       "      <th>Latency (us)</th>\n",
       "      <th>Weighted Latency (us)</th>\n",
       "      <th>Trials</th>\n",
       "      <th>Done</th>\n",
       "    </tr>\n",
       "  </thead>\n",
       "  <tbody>\n",
       "    <tr>\n",
       "      <th>0</th>\n",
       "      <td>main</td>\n",
       "      <td>4194304</td>\n",
       "      <td>1</td>\n",
       "      <td>128.9990</td>\n",
       "      <td>32.5142</td>\n",
       "      <td>32.5142</td>\n",
       "      <td>62</td>\n",
       "      <td></td>\n",
       "    </tr>\n",
       "  </tbody>\n",
       "</table>\n",
       "</div>"
      ],
      "text/plain": [
       "    Name       FLOP    Weight    Speed (GFLOPS)    Latency (us)    \n",
       "0   main    4194304         1          128.9990         32.5142   \\\n",
       "\n",
       "    Weighted Latency (us)    Trials    Done   \n",
       "0                 32.5142        62           "
      ]
     },
     "metadata": {},
     "output_type": "display_data"
    },
    {
     "name": "stdout",
     "output_type": "stream",
     "text": [
      "\n",
      "Total trials: 62\n",
      "Total latency (us): 32.5142\n",
      "\n",
      "2023-06-11 08:48:07 [DEBUG] [task_scheduler.cc:318] \n",
      " ID | Name |    FLOP | Weight | Speed (GFLOPS) | Latency (us) | Weighted Latency (us) | Trials | Done \n",
      "------------------------------------------------------------------------------------------------------\n",
      "  0 | main | 4194304 |      1 |       128.9990 |      32.5142 |               32.5142 |     62 |      \n",
      "------------------------------------------------------------------------------------------------------\n",
      "Total trials: 62\n",
      "Total latency (us): 32.5142\n",
      "\n",
      "2023-06-11 08:48:07 [INFO] [task_scheduler.cc:180] TaskScheduler picks Task #0: \"main\"\n",
      "2023-06-11 08:48:08 [INFO] [task_scheduler.cc:193] Sending 2 sample(s) to builder\n",
      "2023-06-11 08:48:10 [INFO] [task_scheduler.cc:195] Sending 2 sample(s) to runner\n",
      "2023-06-11 08:48:11 [DEBUG] XGB validation: p-rmse: 0.410776\ta-peak@32: 1.000000\n",
      "2023-06-11 08:48:11 [INFO] [task_scheduler.cc:237] [Updated] Task #0: \"main\"\n"
     ]
    },
    {
     "data": {
      "text/html": [
       "<div>\n",
       "<style scoped>\n",
       "    .dataframe tbody tr th:only-of-type {\n",
       "        vertical-align: middle;\n",
       "    }\n",
       "\n",
       "    .dataframe tbody tr th {\n",
       "        vertical-align: top;\n",
       "    }\n",
       "\n",
       "    .dataframe thead th {\n",
       "        text-align: right;\n",
       "    }\n",
       "</style>\n",
       "<table border=\"1\" class=\"dataframe\">\n",
       "  <thead>\n",
       "    <tr style=\"text-align: right;\">\n",
       "      <th></th>\n",
       "      <th>Name</th>\n",
       "      <th>FLOP</th>\n",
       "      <th>Weight</th>\n",
       "      <th>Speed (GFLOPS)</th>\n",
       "      <th>Latency (us)</th>\n",
       "      <th>Weighted Latency (us)</th>\n",
       "      <th>Trials</th>\n",
       "      <th>Done</th>\n",
       "    </tr>\n",
       "  </thead>\n",
       "  <tbody>\n",
       "    <tr>\n",
       "      <th>0</th>\n",
       "      <td>main</td>\n",
       "      <td>4194304</td>\n",
       "      <td>1</td>\n",
       "      <td>128.9990</td>\n",
       "      <td>32.5142</td>\n",
       "      <td>32.5142</td>\n",
       "      <td>64</td>\n",
       "      <td></td>\n",
       "    </tr>\n",
       "  </tbody>\n",
       "</table>\n",
       "</div>"
      ],
      "text/plain": [
       "    Name       FLOP    Weight    Speed (GFLOPS)    Latency (us)    \n",
       "0   main    4194304         1          128.9990         32.5142   \\\n",
       "\n",
       "    Weighted Latency (us)    Trials    Done   \n",
       "0                 32.5142        64           "
      ]
     },
     "metadata": {},
     "output_type": "display_data"
    },
    {
     "name": "stdout",
     "output_type": "stream",
     "text": [
      "2023-06-11 08:48:11 [DEBUG] [task_scheduler.cc:318] \n",
      " ID | Name |    FLOP | Weight | Speed (GFLOPS) | Latency (us) | Weighted Latency (us) | Trials | Done \n",
      "------------------------------------------------------------------------------------------------------\n",
      "  0 | main | 4194304 |      1 |       128.9990 |      32.5142 |               32.5142 |     64 |      \n",
      "------------------------------------------------------------------------------------------------------\n",
      "Total trials: 64\n",
      "Total latency (us): 32.5142\n",
      "\n",
      "\n",
      "Total trials: 64\n",
      "Total latency (us): 32.5142\n",
      "\n",
      "2023-06-11 08:48:11 [INFO] [task_scheduler.cc:260] Task #0 has finished. Remaining task(s): 0\n"
     ]
    },
    {
     "data": {
      "text/html": [
       "<div>\n",
       "<style scoped>\n",
       "    .dataframe tbody tr th:only-of-type {\n",
       "        vertical-align: middle;\n",
       "    }\n",
       "\n",
       "    .dataframe tbody tr th {\n",
       "        vertical-align: top;\n",
       "    }\n",
       "\n",
       "    .dataframe thead th {\n",
       "        text-align: right;\n",
       "    }\n",
       "</style>\n",
       "<table border=\"1\" class=\"dataframe\">\n",
       "  <thead>\n",
       "    <tr style=\"text-align: right;\">\n",
       "      <th></th>\n",
       "      <th>Name</th>\n",
       "      <th>FLOP</th>\n",
       "      <th>Weight</th>\n",
       "      <th>Speed (GFLOPS)</th>\n",
       "      <th>Latency (us)</th>\n",
       "      <th>Weighted Latency (us)</th>\n",
       "      <th>Trials</th>\n",
       "      <th>Done</th>\n",
       "    </tr>\n",
       "  </thead>\n",
       "  <tbody>\n",
       "    <tr>\n",
       "      <th>0</th>\n",
       "      <td>main</td>\n",
       "      <td>4194304</td>\n",
       "      <td>1</td>\n",
       "      <td>128.9990</td>\n",
       "      <td>32.5142</td>\n",
       "      <td>32.5142</td>\n",
       "      <td>64</td>\n",
       "      <td>Y</td>\n",
       "    </tr>\n",
       "  </tbody>\n",
       "</table>\n",
       "</div>"
      ],
      "text/plain": [
       "    Name       FLOP    Weight    Speed (GFLOPS)    Latency (us)    \n",
       "0   main    4194304         1          128.9990         32.5142   \\\n",
       "\n",
       "    Weighted Latency (us)    Trials    Done   \n",
       "0                 32.5142        64       Y   "
      ]
     },
     "metadata": {},
     "output_type": "display_data"
    },
    {
     "name": "stdout",
     "output_type": "stream",
     "text": [
      "2023-06-11 08:48:11 [DEBUG] [task_scheduler.cc:318] \n",
      " ID | Name |    FLOP | Weight | Speed (GFLOPS) | Latency (us) | Weighted Latency (us) | Trials | Done \n",
      "------------------------------------------------------------------------------------------------------\n",
      "  0 | main | 4194304 |      1 |       128.9990 |      32.5142 |               32.5142 |     64 |    Y \n",
      "------------------------------------------------------------------------------------------------------\n",
      "Total trials: 64\n",
      "Total latency (us): 32.5142\n",
      "\n",
      "\n",
      "Total trials: 64\n",
      "Total latency (us): 32.5142\n",
      "\n"
     ]
    }
   ],
   "source": [
    "from tvm import meta_schedule as ms\n",
    "\n",
    "database = ms.tune_tir(\n",
    "    mod=MyModule,\n",
    "    target=\"llvm --num-cores=1\",\n",
    "    max_trials_global=64,\n",
    "    num_trials_per_iter=64,\n",
    "    space=ms.space_generator.ScheduleFn(stochastic_schedule_mm),\n",
    "    work_dir=\"./tune_tmp\",\n",
    "    # task_name=\"main\"\n",
    ")"
   ]
  },
  {
   "attachments": {},
   "cell_type": "markdown",
   "metadata": {
    "id": "2au1M-kptntR"
   },
   "source": [
    "`tune_tir` functions return an optimized schedule found during the tuning process.\n",
    "\n",
    "通过 trace 从 d·ecision 里找搜索结果"
   ]
  },
  {
   "cell_type": "code",
   "execution_count": 10,
   "metadata": {
    "colab": {
     "base_uri": "https://localhost:8080/"
    },
    "id": "CFngbVbjKrKd",
    "outputId": "5c10905a-4a26-48dd-b68a-466e52b6b178"
   },
   "outputs": [
    {
     "name": "stdout",
     "output_type": "stream",
     "text": [
      "Time cost of MyModule after tuning: 0.105 ms\n"
     ]
    }
   ],
   "source": [
    "sch_tuned = ms.tir_integration.compile_tir(database, MyModule, target=\"llvm --num-cores=1\")\n",
    "# print(sch_tuned.trace)\n",
    "# sch_tuned.mod.show()\n",
    "\n",
    "lib = tvm.build(sch_tuned.mod, target=\"llvm\")\n",
    "f_timer_after = lib.time_evaluator(\"main\", tvm.cpu())\n",
    "print(\"Time cost of MyModule after tuning: %.3f ms\" % (f_timer_after(a_nd, b_nd, c_nd).mean * 1000))"
   ]
  },
  {
   "attachments": {},
   "cell_type": "markdown",
   "metadata": {
    "id": "GvBUfh0RNFfJ"
   },
   "source": [
    "### 1.4 使用 TVM 的默认搜索空间\n",
    "\n",
    "效果可能更好"
   ]
  },
  {
   "cell_type": "code",
   "execution_count": 11,
   "metadata": {
    "colab": {
     "base_uri": "https://localhost:8080/"
    },
    "id": "dWHos7P_M_KJ",
    "outputId": "23e2b866-41b1-4c51-cea4-c16bb34ab6fb"
   },
   "outputs": [
    {
     "name": "stdout",
     "output_type": "stream",
     "text": [
      "2023-06-11 08:48:16 [INFO] Logging directory: ./tune_tmp/logs\n",
      "2023-06-11 08:48:16 [INFO] LocalBuilder: max_workers = 8\n",
      "2023-06-11 08:48:17 [INFO] LocalRunner: max_workers = 1\n",
      "2023-06-11 08:48:17 [INFO] [task_scheduler.cc:159] Initializing Task #0: \"main\"\n"
     ]
    },
    {
     "data": {
      "text/html": [
       "<div>\n",
       "<style scoped>\n",
       "    .dataframe tbody tr th:only-of-type {\n",
       "        vertical-align: middle;\n",
       "    }\n",
       "\n",
       "    .dataframe tbody tr th {\n",
       "        vertical-align: top;\n",
       "    }\n",
       "\n",
       "    .dataframe thead th {\n",
       "        text-align: right;\n",
       "    }\n",
       "</style>\n",
       "<table border=\"1\" class=\"dataframe\">\n",
       "  <thead>\n",
       "    <tr style=\"text-align: right;\">\n",
       "      <th></th>\n",
       "      <th>Name</th>\n",
       "      <th>FLOP</th>\n",
       "      <th>Weight</th>\n",
       "      <th>Speed (GFLOPS)</th>\n",
       "      <th>Latency (us)</th>\n",
       "      <th>Weighted Latency (us)</th>\n",
       "      <th>Trials</th>\n",
       "      <th>Done</th>\n",
       "    </tr>\n",
       "  </thead>\n",
       "  <tbody>\n",
       "    <tr>\n",
       "      <th>0</th>\n",
       "      <td>main</td>\n",
       "      <td>4194304</td>\n",
       "      <td>1</td>\n",
       "      <td>N/A</td>\n",
       "      <td>N/A</td>\n",
       "      <td>N/A</td>\n",
       "      <td>0</td>\n",
       "      <td></td>\n",
       "    </tr>\n",
       "  </tbody>\n",
       "</table>\n",
       "</div>"
      ],
      "text/plain": [
       "    Name       FLOP    Weight    Speed (GFLOPS)    Latency (us)    \n",
       "0   main    4194304         1               N/A             N/A   \\\n",
       "\n",
       "    Weighted Latency (us)    Trials    Done   \n",
       "0                     N/A         0           "
      ]
     },
     "metadata": {},
     "output_type": "display_data"
    },
    {
     "name": "stdout",
     "output_type": "stream",
     "text": [
      "2023-06-11 08:48:17 [DEBUG] [task_scheduler.cc:318] \n",
      " ID | Name |    FLOP | Weight | Speed (GFLOPS) | Latency (us) | Weighted Latency (us) | Trials | Done \n",
      "------------------------------------------------------------------------------------------------------\n",
      "  0 | main | 4194304 |      1 |            N/A |          N/A |                   N/A |      0 |      \n",
      "------------------------------------------------------------------------------------------------------\n",
      "Total trials: 0\n",
      "Total latency (us): 0\n",
      "\n",
      "\n",
      "Total trials: 0\n",
      "Total latency (us): 0\n",
      "\n",
      "2023-06-11 08:48:17 [INFO] [task_scheduler.cc:180] TaskScheduler picks Task #0: \"main\"\n",
      "2023-06-11 08:48:20 [INFO] [task_scheduler.cc:193] Sending 64 sample(s) to builder\n",
      "2023-06-11 08:48:30 [INFO] [task_scheduler.cc:195] Sending 64 sample(s) to runner\n",
      "2023-06-11 08:49:16 [DEBUG] XGB iter   0: tr-p-rmse: 0.373865\ttr-a-peak@32: 1.000000\ttr-rmse: 0.259371\ttr-rmse: 0.259371\n",
      "2023-06-11 08:49:16 [DEBUG] XGB iter  25: tr-p-rmse: 0.040294\ttr-a-peak@32: 1.000000\ttr-rmse: 0.298750\ttr-rmse: 0.298750\n",
      "2023-06-11 08:49:16 [DEBUG] XGB iter  50: tr-p-rmse: 0.040215\ttr-a-peak@32: 1.000000\ttr-rmse: 0.298920\ttr-rmse: 0.298920\n",
      "2023-06-11 08:49:16 [DEBUG] XGB iter  75: tr-p-rmse: 0.040215\ttr-a-peak@32: 1.000000\ttr-rmse: 0.298920\ttr-rmse: 0.298920\n",
      "2023-06-11 08:49:16 [DEBUG] XGB stopped. Best iteration: [36] tr-p-rmse:0.04022\ttr-a-peak@32:1.00000\ttr-rmse:0.29892\ttr-rmse:0.29892 \n",
      "2023-06-11 08:49:16 [INFO] [task_scheduler.cc:237] [Updated] Task #0: \"main\"\n"
     ]
    },
    {
     "data": {
      "text/html": [
       "<div>\n",
       "<style scoped>\n",
       "    .dataframe tbody tr th:only-of-type {\n",
       "        vertical-align: middle;\n",
       "    }\n",
       "\n",
       "    .dataframe tbody tr th {\n",
       "        vertical-align: top;\n",
       "    }\n",
       "\n",
       "    .dataframe thead th {\n",
       "        text-align: right;\n",
       "    }\n",
       "</style>\n",
       "<table border=\"1\" class=\"dataframe\">\n",
       "  <thead>\n",
       "    <tr style=\"text-align: right;\">\n",
       "      <th></th>\n",
       "      <th>Name</th>\n",
       "      <th>FLOP</th>\n",
       "      <th>Weight</th>\n",
       "      <th>Speed (GFLOPS)</th>\n",
       "      <th>Latency (us)</th>\n",
       "      <th>Weighted Latency (us)</th>\n",
       "      <th>Trials</th>\n",
       "      <th>Done</th>\n",
       "    </tr>\n",
       "  </thead>\n",
       "  <tbody>\n",
       "    <tr>\n",
       "      <th>0</th>\n",
       "      <td>main</td>\n",
       "      <td>4194304</td>\n",
       "      <td>1</td>\n",
       "      <td>124.6979</td>\n",
       "      <td>33.6357</td>\n",
       "      <td>33.6357</td>\n",
       "      <td>64</td>\n",
       "      <td></td>\n",
       "    </tr>\n",
       "  </tbody>\n",
       "</table>\n",
       "</div>"
      ],
      "text/plain": [
       "    Name       FLOP    Weight    Speed (GFLOPS)    Latency (us)    \n",
       "0   main    4194304         1          124.6979         33.6357   \\\n",
       "\n",
       "    Weighted Latency (us)    Trials    Done   \n",
       "0                 33.6357        64           "
      ]
     },
     "metadata": {},
     "output_type": "display_data"
    },
    {
     "name": "stdout",
     "output_type": "stream",
     "text": [
      "\n",
      "Total trials: 64\n",
      "Total latency (us): 33.6357\n",
      "\n",
      "2023-06-11 08:49:16 [DEBUG] [task_scheduler.cc:318] \n",
      " ID | Name |    FLOP | Weight | Speed (GFLOPS) | Latency (us) | Weighted Latency (us) | Trials | Done \n",
      "------------------------------------------------------------------------------------------------------\n",
      "  0 | main | 4194304 |      1 |       124.6979 |      33.6357 |               33.6357 |     64 |      \n",
      "------------------------------------------------------------------------------------------------------\n",
      "Total trials: 64\n",
      "Total latency (us): 33.6357\n",
      "\n",
      "2023-06-11 08:49:16 [INFO] [task_scheduler.cc:260] Task #0 has finished. Remaining task(s): 0\n"
     ]
    },
    {
     "data": {
      "text/html": [
       "<div>\n",
       "<style scoped>\n",
       "    .dataframe tbody tr th:only-of-type {\n",
       "        vertical-align: middle;\n",
       "    }\n",
       "\n",
       "    .dataframe tbody tr th {\n",
       "        vertical-align: top;\n",
       "    }\n",
       "\n",
       "    .dataframe thead th {\n",
       "        text-align: right;\n",
       "    }\n",
       "</style>\n",
       "<table border=\"1\" class=\"dataframe\">\n",
       "  <thead>\n",
       "    <tr style=\"text-align: right;\">\n",
       "      <th></th>\n",
       "      <th>Name</th>\n",
       "      <th>FLOP</th>\n",
       "      <th>Weight</th>\n",
       "      <th>Speed (GFLOPS)</th>\n",
       "      <th>Latency (us)</th>\n",
       "      <th>Weighted Latency (us)</th>\n",
       "      <th>Trials</th>\n",
       "      <th>Done</th>\n",
       "    </tr>\n",
       "  </thead>\n",
       "  <tbody>\n",
       "    <tr>\n",
       "      <th>0</th>\n",
       "      <td>main</td>\n",
       "      <td>4194304</td>\n",
       "      <td>1</td>\n",
       "      <td>124.6979</td>\n",
       "      <td>33.6357</td>\n",
       "      <td>33.6357</td>\n",
       "      <td>64</td>\n",
       "      <td>Y</td>\n",
       "    </tr>\n",
       "  </tbody>\n",
       "</table>\n",
       "</div>"
      ],
      "text/plain": [
       "    Name       FLOP    Weight    Speed (GFLOPS)    Latency (us)    \n",
       "0   main    4194304         1          124.6979         33.6357   \\\n",
       "\n",
       "    Weighted Latency (us)    Trials    Done   \n",
       "0                 33.6357        64       Y   "
      ]
     },
     "metadata": {},
     "output_type": "display_data"
    },
    {
     "name": "stdout",
     "output_type": "stream",
     "text": [
      "2023-06-11 08:49:16 [DEBUG] [task_scheduler.cc:318] \n",
      " ID | Name |    FLOP | Weight | Speed (GFLOPS) | Latency (us) | Weighted Latency (us) | Trials | Done \n",
      "------------------------------------------------------------------------------------------------------\n",
      "  0 | main | 4194304 |      1 |       124.6979 |      33.6357 |               33.6357 |     64 |    Y \n",
      "------------------------------------------------------------------------------------------------------\n",
      "Total trials: 64\n",
      "Total latency (us): 33.6357\n",
      "\n",
      "\n",
      "Total trials: 64\n",
      "Total latency (us): 33.6357\n",
      "\n"
     ]
    }
   ],
   "source": [
    "database = ms.tune_tir(\n",
    "    mod=MyModule,\n",
    "    target=\"llvm --num-cores=1\",\n",
    "    max_trials_global=64,\n",
    "    num_trials_per_iter=64,\n",
    "    work_dir=\"./tune_tmp\",\n",
    "    # task_name=\"main\",\n",
    ")"
   ]
  },
  {
   "cell_type": "code",
   "execution_count": 12,
   "metadata": {
    "colab": {
     "base_uri": "https://localhost:8080/"
    },
    "id": "1YEebX59NobA",
    "outputId": "9986b79c-445c-49ac-fba3-fff459e0abc4"
   },
   "outputs": [
    {
     "name": "stdout",
     "output_type": "stream",
     "text": [
      "Time cost of MyModule after tuning: 0.096 ms\n"
     ]
    }
   ],
   "source": [
    "sch_tuned = ms.tir_integration.compile_tir(database, MyModule, target=\"llvm --num-cores=1\")\n",
    "# sch_tuned.mod.show()\n",
    "# print(sch.trace)\n",
    "\n",
    "lib = tvm.build(sch_tuned.mod, target=\"llvm\")\n",
    "f_timer_after = lib.time_evaluator(\"main\", tvm.cpu())\n",
    "print(\"Time cost of MyModule after tuning: %.3f ms\" % (f_timer_after(a_nd, b_nd, c_nd).mean * 1000))"
   ]
  },
  {
   "attachments": {},
   "cell_type": "markdown",
   "metadata": {
    "id": "6IEPOVDmArG5"
   },
   "source": [
    "The result gets much faster than our original code. We can take a glimpse at the trace and the final code. For the purpose of this chapter, you do not need to understand all the transformations. At a high level, the trace involves:\n",
    "\n",
    "- More levels of loop tiling transformations.\n",
    "- Vectorization of intermediate computations.\n",
    "- Parallelization and unrolling of loops. \n"
   ]
  },
  {
   "cell_type": "code",
   "execution_count": 13,
   "metadata": {
    "colab": {
     "base_uri": "https://localhost:8080/"
    },
    "id": "-AskZWy_NkAL",
    "outputId": "a6b41032-8867-4a2c-f9fd-985e25cf5044"
   },
   "outputs": [
    {
     "data": {
      "text/plain": [
       "# from tvm import tir\n",
       "def apply_trace(sch: tir.Schedule) -> None:\n",
       "  b0 = sch.get_block(name=\"C\", func_name=\"main\")\n",
       "  b1 = sch.get_block(name=\"root\", func_name=\"main\")\n",
       "  sch.annotate(block_or_loop=b0, ann_key=\"meta_schedule.tiling_structure\", ann_val=\"SSRSRS\")\n",
       "  l2, l3, l4 = sch.get_loops(block=b0)\n",
       "  v5, v6, v7, v8 = sch.sample_perfect_tile(loop=l2, n=4, max_innermost_factor=64, decision=[32, 4, 1, 1])\n",
       "  l9, l10, l11, l12 = sch.split(loop=l2, factors=[v5, v6, v7, v8], preserve_unit_iters=True)\n",
       "  v13, v14, v15, v16 = sch.sample_perfect_tile(loop=l3, n=4, max_innermost_factor=64, decision=[1, 4, 4, 8])\n",
       "  l17, l18, l19, l20 = sch.split(loop=l3, factors=[v13, v14, v15, v16], preserve_unit_iters=True)\n",
       "  v21, v22 = sch.sample_perfect_tile(loop=l4, n=2, max_innermost_factor=64, decision=[128, 1])\n",
       "  l23, l24 = sch.split(loop=l4, factors=[v21, v22], preserve_unit_iters=True)\n",
       "  sch.reorder(l9, l17, l10, l18, l23, l11, l19, l24, l12, l20)\n",
       "  b25 = sch.cache_write(block=b0, write_buffer_index=0, storage_scope=\"global\")\n",
       "  sch.reverse_compute_at(block=b25, loop=l18, preserve_unit_loops=True, index=-1)\n",
       "  sch.annotate(block_or_loop=b1, ann_key=\"meta_schedule.parallel\", ann_val=16)\n",
       "  sch.annotate(block_or_loop=b1, ann_key=\"meta_schedule.vectorize\", ann_val=64)\n",
       "  v26 = sch.sample_categorical(candidates=[0, 16, 64, 512], probs=[0.25, 0.25, 0.25, 0.25], decision=3)\n",
       "  sch.annotate(block_or_loop=b1, ann_key=\"meta_schedule.unroll_explicit\", ann_val=v26)\n",
       "  sch.enter_postproc()\n",
       "  b27 = sch.get_block(name=\"root\", func_name=\"main\")\n",
       "  sch.unannotate(block_or_loop=b27, ann_key=\"meta_schedule.parallel\")\n",
       "  sch.unannotate(block_or_loop=b27, ann_key=\"meta_schedule.vectorize\")\n",
       "  sch.unannotate(block_or_loop=b27, ann_key=\"meta_schedule.unroll_explicit\")\n",
       "  b28, b29 = sch.get_child_blocks(b27)\n",
       "  l30, l31, l32, l33, l34, l35, l36, l37, l38, l39 = sch.get_loops(block=b28)\n",
       "  l40 = sch.fuse(l30, preserve_unit_iters=True)\n",
       "  sch.parallel(loop=l40)\n",
       "  l41 = sch.fuse(l39, preserve_unit_iters=True)\n",
       "  sch.vectorize(loop=l41)\n",
       "  sch.annotate(block_or_loop=l40, ann_key=\"pragma_auto_unroll_max_step\", ann_val=512)\n",
       "  sch.annotate(block_or_loop=l40, ann_key=\"pragma_unroll_explicit\", ann_val=1)\n",
       "  l42, l43, l44, l45, l46, l47 = sch.get_loops(block=b29)\n",
       "  l48 = sch.fuse(l47, preserve_unit_iters=True)\n",
       "  sch.vectorize(loop=l48)\n",
       "  b49 = sch.get_block(name=\"C\", func_name=\"main\")\n",
       "  l50, l51, l52, l53, l54, l55, l56, l57, l58, l59 = sch.get_loops(block=b49)\n",
       "  b60 = sch.decompose_reduction(block=b49, loop=l54)"
      ]
     },
     "execution_count": 13,
     "metadata": {},
     "output_type": "execute_result"
    }
   ],
   "source": [
    "sch_tuned.trace"
   ]
  },
  {
   "attachments": {},
   "cell_type": "markdown",
   "metadata": {
    "id": "wIIsUXGqpRqV"
   },
   "source": [
    "## 2. 优化 2-layer MLP 模型\n",
    "\n",
    "- 优化前: 0.187212 ms\n",
    "- 优化后: 0.148056 ms\n",
    "\n",
    "### 2.1 原始的模型实现\n",
    "\n",
    "使用与 chap 04 课相同的 MLP 模型。"
   ]
  },
  {
   "cell_type": "code",
   "execution_count": 14,
   "metadata": {},
   "outputs": [],
   "source": [
    "param_file = 'fasionmnist_mlp_params.pkl'\n",
    "mlp_params = pickle.load(open(param_file, \"rb\"))\n",
    "\n",
    "class_names = ['T-shirt/top', 'Trouser', 'Pullover', 'Dress', 'Coat',\n",
    "               'Sandal', 'Shirt', 'Sneaker', 'Bag', 'Ankle boot']\n",
    "\n",
    "image_filename = 'fasionmnist_image_Trouser.pkl'\n",
    "label = 1\n",
    "\n",
    "with open(image_filename, 'rb') as f:\n",
    "    img = pickle.load(f)\n",
    "\n",
    "data_nd = tvm.nd.array(img.reshape(1, 784))\n",
    "nd_params = {k: tvm.nd.array(v) for k, v in mlp_params.items()}"
   ]
  },
  {
   "cell_type": "code",
   "execution_count": 15,
   "metadata": {
    "colab": {
     "base_uri": "https://localhost:8080/",
     "height": 287
    },
    "id": "Aht3W8MNkSf_",
    "outputId": "efffedc0-1918-4cc1-8ea5-d67159eda774"
   },
   "outputs": [
    {
     "data": {
      "image/png": "[encoded data removed]",
      "text/plain": [
       "<Figure size 640x480 with 2 Axes>"
      ]
     },
     "metadata": {},
     "output_type": "display_data"
    },
    {
     "name": "stdout",
     "output_type": "stream",
     "text": [
      "Class: Trouser\n"
     ]
    }
   ],
   "source": [
    "import matplotlib.pyplot as plt\n",
    "\n",
    "plt.figure()\n",
    "plt.imshow(img)\n",
    "plt.colorbar()\n",
    "plt.grid(False)\n",
    "plt.show()\n",
    "\n",
    "print(\"Class:\", class_names[label])"
   ]
  },
  {
   "attachments": {},
   "cell_type": "markdown",
   "metadata": {
    "id": "uVmYbaRPDSdr"
   },
   "source": [
    "Let us use a mixture module where most of the components call into environment function and also come with one TensorIR function `linear0`."
   ]
  },
  {
   "cell_type": "code",
   "execution_count": 16,
   "metadata": {
    "id": "qkXWaLfzN4En"
   },
   "outputs": [],
   "source": [
    "@tvm.script.ir_module\n",
    "class MyModuleMixture: \n",
    "    @T.prim_func\n",
    "    def linear0(X: T.Buffer((1, 784), \"float32\"), \n",
    "                W: T.Buffer((128, 784), \"float32\"), \n",
    "                B: T.Buffer((128,), \"float32\"), \n",
    "                Z: T.Buffer((1, 128), \"float32\")):\n",
    "        T.func_attr({\"global_symbol\": \"linear0\", \"tir.noalias\": True})\n",
    "        Y = T.alloc_buffer((1, 128), \"float32\")\n",
    "        for i, j, k in T.grid(1, 128, 784):\n",
    "            with T.block(\"Y\"):\n",
    "                vi, vj, vk = T.axis.remap(\"SSR\", [i, j, k])\n",
    "                with T.init():\n",
    "                    Y[vi, vj] = T.float32(0)\n",
    "                Y[vi, vj] = Y[vi, vj] + X[vi, vk] * W[vj, vk]\n",
    "    \n",
    "        for i, j in T.grid(1, 128):\n",
    "            with T.block(\"Z\"):\n",
    "                vi, vj = T.axis.remap(\"SS\", [i, j])\n",
    "                Z[vi, vj] =  Y[vi, vj] + B[vj]\n",
    "\n",
    "    @R.function\n",
    "    def main(x: R.Tensor((1, 784), \"float32\"), \n",
    "             w0: R.Tensor((128, 784), \"float32\"), \n",
    "             b0: R.Tensor((128,), \"float32\"), \n",
    "             w1: R.Tensor((10, 128), \"float32\"), \n",
    "             b1: R.Tensor((10,), \"float32\")):\n",
    "        with R.dataflow():\n",
    "            cls = MyModuleMixture\n",
    "            lv0 = R.call_tir(cls.linear0, (x, w0, b0), out_sinfo=R.Tensor((1, 128), dtype=\"float32\"))\n",
    "            lv1 = R.call_dps_packed(\"env.relu\", (lv0,), out_sinfo=R.Tensor((1, 128), dtype=\"float32\"))\n",
    "            out = R.call_dps_packed(\"env.linear\", (lv1, w1, b1), out_sinfo=R.Tensor((1, 10), dtype=\"float32\"))\n",
    "            R.output(out)\n",
    "        return out\n",
    "\n",
    "MyModuleWithParams = relax.transform.BindParams(\"main\", nd_params)(MyModuleMixture)"
   ]
  },
  {
   "cell_type": "code",
   "execution_count": 17,
   "metadata": {
    "id": "fCl3PnjWOvXf"
   },
   "outputs": [],
   "source": [
    "@tvm.register_func(\"env.linear\", override=True)\n",
    "def torch_linear(x: tvm.nd.NDArray, \n",
    "                 w: tvm.nd.NDArray, \n",
    "                 b: tvm.nd.NDArray, \n",
    "                 out: tvm.nd.NDArray):\n",
    "    x_torch = torch.from_dlpack(x)\n",
    "    w_torch = torch.from_dlpack(w)\n",
    "    b_torch = torch.from_dlpack(b)\n",
    "    out_torch = torch.from_dlpack(out)\n",
    "    torch.mm(x_torch, w_torch.T, out=out_torch)\n",
    "    torch.add(out_torch, b_torch, out=out_torch)\n",
    "\n",
    "@tvm.register_func(\"env.relu\", override=True)\n",
    "def lnumpy_relu(x: tvm.nd.NDArray, \n",
    "                out: tvm.nd.NDArray):\n",
    "    x_torch = torch.from_dlpack(x)\n",
    "    out_torch = torch.from_dlpack(out)\n",
    "    torch.maximum(x_torch, torch.Tensor([0.0]), out=out_torch)"
   ]
  },
  {
   "cell_type": "code",
   "execution_count": 18,
   "metadata": {
    "colab": {
     "base_uri": "https://localhost:8080/"
    },
    "id": "v-9mB9SEOatM",
    "outputId": "c9ef0713-7896-445c-edfc-f5f8df20fa02"
   },
   "outputs": [
    {
     "name": "stdout",
     "output_type": "stream",
     "text": [
      "MyModuleWithParams Prediction: Trouser\n"
     ]
    }
   ],
   "source": [
    "ex = relax.build(MyModuleWithParams, target=\"llvm\")\n",
    "vm = relax.VirtualMachine(ex, tvm.cpu())\n",
    "\n",
    "nd_res = vm[\"main\"](data_nd)\n",
    "\n",
    "pred_kind = np.argmax(nd_res.numpy(), axis=1)\n",
    "print(\"MyModuleWithParams Prediction:\", class_names[pred_kind[0]])"
   ]
  },
  {
   "cell_type": "code",
   "execution_count": 19,
   "metadata": {
    "colab": {
     "base_uri": "https://localhost:8080/"
    },
    "id": "HrMoMP08OxYJ",
    "outputId": "2a658837-67f5-4298-8828-becf5201392f"
   },
   "outputs": [
    {
     "name": "stdout",
     "output_type": "stream",
     "text": [
      "MyModuleWithParams time-cost: 0.187212 ms\n"
     ]
    }
   ],
   "source": [
    "ftimer = vm.module.time_evaluator(\"main\", tvm.cpu(), number=100)\n",
    "\n",
    "print(\"MyModuleWithParams time-cost: %g ms\" % (ftimer(data_nd).mean * 1000))"
   ]
  },
  {
   "attachments": {},
   "cell_type": "markdown",
   "metadata": {
    "id": "y1ei5bAzD0O4"
   },
   "source": [
    "### 2.2 优化模型的 linear0 算子\n",
    "\n",
    "优化的流程如下图:"
   ]
  },
  {
   "attachments": {},
   "cell_type": "markdown",
   "metadata": {
    "id": "Sxg7AOW3ZKH3"
   },
   "source": [
    "![Screen Shot 2022-07-15 at 8.23.58 PM.png](data:image/png;base64,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)"
   ]
  },
  {
   "attachments": {},
   "cell_type": "markdown",
   "metadata": {
    "id": "Gd2Io-enZblB"
   },
   "source": [
    "Currently, tune API only takes an IRModule with one `main` function, so we first get the `linear0` out into another module's main function and pass it to tune"
   ]
  },
  {
   "cell_type": "code",
   "execution_count": 20,
   "metadata": {
    "colab": {
     "base_uri": "https://localhost:8080/",
     "height": 454
    },
    "id": "lbl1l_TuU8Ug",
    "outputId": "a335f2d0-f9eb-4b83-89b3-9e87343838b1"
   },
   "outputs": [],
   "source": [
    "mod_linear = tvm.IRModule.from_expr(MyModuleMixture[\"linear0\"].with_attr(\"global_symbol\", \"main\"))\n",
    "# mod_linear = tvm.IRModule.from_expr(MyModuleMixture[\"linear0\"])\n",
    "# mod_linear.show()"
   ]
  },
  {
   "cell_type": "code",
   "execution_count": 21,
   "metadata": {
    "colab": {
     "base_uri": "https://localhost:8080/"
    },
    "id": "vdZwiQK8VSlG",
    "outputId": "d8df5aa4-423b-4d80-e36b-03ac98d5bd64"
   },
   "outputs": [
    {
     "name": "stdout",
     "output_type": "stream",
     "text": [
      "2023-06-11 08:49:23 [INFO] Logging directory: ./tune_tmp/logs\n",
      "2023-06-11 08:49:23 [INFO] LocalBuilder: max_workers = 8\n",
      "2023-06-11 08:49:24 [INFO] LocalRunner: max_workers = 1\n",
      "2023-06-11 08:49:24 [INFO] [task_scheduler.cc:159] Initializing Task #0: \"main\"\n"
     ]
    },
    {
     "data": {
      "text/html": [
       "<div>\n",
       "<style scoped>\n",
       "    .dataframe tbody tr th:only-of-type {\n",
       "        vertical-align: middle;\n",
       "    }\n",
       "\n",
       "    .dataframe tbody tr th {\n",
       "        vertical-align: top;\n",
       "    }\n",
       "\n",
       "    .dataframe thead th {\n",
       "        text-align: right;\n",
       "    }\n",
       "</style>\n",
       "<table border=\"1\" class=\"dataframe\">\n",
       "  <thead>\n",
       "    <tr style=\"text-align: right;\">\n",
       "      <th></th>\n",
       "      <th>Name</th>\n",
       "      <th>FLOP</th>\n",
       "      <th>Weight</th>\n",
       "      <th>Speed (GFLOPS)</th>\n",
       "      <th>Latency (us)</th>\n",
       "      <th>Weighted Latency (us)</th>\n",
       "      <th>Trials</th>\n",
       "      <th>Done</th>\n",
       "    </tr>\n",
       "  </thead>\n",
       "  <tbody>\n",
       "    <tr>\n",
       "      <th>0</th>\n",
       "      <td>main</td>\n",
       "      <td>200832</td>\n",
       "      <td>1</td>\n",
       "      <td>N/A</td>\n",
       "      <td>N/A</td>\n",
       "      <td>N/A</td>\n",
       "      <td>0</td>\n",
       "      <td></td>\n",
       "    </tr>\n",
       "  </tbody>\n",
       "</table>\n",
       "</div>"
      ],
      "text/plain": [
       "    Name      FLOP    Weight    Speed (GFLOPS)    Latency (us)    \n",
       "0   main    200832         1               N/A             N/A   \\\n",
       "\n",
       "    Weighted Latency (us)    Trials    Done   \n",
       "0                     N/A         0           "
      ]
     },
     "metadata": {},
     "output_type": "display_data"
    },
    {
     "name": "stdout",
     "output_type": "stream",
     "text": [
      "\n",
      "Total trials: 0\n",
      "Total latency (us): 0\n",
      "\n",
      "2023-06-11 08:49:24 [DEBUG] [task_scheduler.cc:318] \n",
      " ID | Name |   FLOP | Weight | Speed (GFLOPS) | Latency (us) | Weighted Latency (us) | Trials | Done \n",
      "-----------------------------------------------------------------------------------------------------\n",
      "  0 | main | 200832 |      1 |            N/A |          N/A |                   N/A |      0 |      \n",
      "-----------------------------------------------------------------------------------------------------\n",
      "Total trials: 0\n",
      "Total latency (us): 0\n",
      "\n",
      "2023-06-11 08:49:24 [INFO] [task_scheduler.cc:180] TaskScheduler picks Task #0: \"main\"\n",
      "2023-06-11 08:49:27 [INFO] [task_scheduler.cc:193] Sending 64 sample(s) to builder\n",
      "2023-06-11 08:49:33 [INFO] [task_scheduler.cc:195] Sending 64 sample(s) to runner\n",
      "2023-06-11 08:50:16 [DEBUG] XGB iter   0: tr-p-rmse: 0.434883\ttr-a-peak@32: 1.000000\ttr-rmse: 0.229909\ttr-rmse: 0.229909\n",
      "2023-06-11 08:50:16 [DEBUG] XGB iter  25: tr-p-rmse: 0.043988\ttr-a-peak@32: 1.000000\ttr-rmse: 0.290755\ttr-rmse: 0.290755\n",
      "2023-06-11 08:50:16 [DEBUG] XGB iter  50: tr-p-rmse: 0.043966\ttr-a-peak@32: 1.000000\ttr-rmse: 0.290796\ttr-rmse: 0.290796\n",
      "2023-06-11 08:50:16 [DEBUG] XGB iter  75: tr-p-rmse: 0.043966\ttr-a-peak@32: 1.000000\ttr-rmse: 0.290796\ttr-rmse: 0.290796\n",
      "2023-06-11 08:50:16 [DEBUG] XGB stopped. Best iteration: [35] tr-p-rmse:0.04397\ttr-a-peak@32:1.00000\ttr-rmse:0.29080\ttr-rmse:0.29080 \n",
      "2023-06-11 08:50:16 [INFO] [task_scheduler.cc:237] [Updated] Task #0: \"main\"\n"
     ]
    },
    {
     "data": {
      "text/html": [
       "<div>\n",
       "<style scoped>\n",
       "    .dataframe tbody tr th:only-of-type {\n",
       "        vertical-align: middle;\n",
       "    }\n",
       "\n",
       "    .dataframe tbody tr th {\n",
       "        vertical-align: top;\n",
       "    }\n",
       "\n",
       "    .dataframe thead th {\n",
       "        text-align: right;\n",
       "    }\n",
       "</style>\n",
       "<table border=\"1\" class=\"dataframe\">\n",
       "  <thead>\n",
       "    <tr style=\"text-align: right;\">\n",
       "      <th></th>\n",
       "      <th>Name</th>\n",
       "      <th>FLOP</th>\n",
       "      <th>Weight</th>\n",
       "      <th>Speed (GFLOPS)</th>\n",
       "      <th>Latency (us)</th>\n",
       "      <th>Weighted Latency (us)</th>\n",
       "      <th>Trials</th>\n",
       "      <th>Done</th>\n",
       "    </tr>\n",
       "  </thead>\n",
       "  <tbody>\n",
       "    <tr>\n",
       "      <th>0</th>\n",
       "      <td>main</td>\n",
       "      <td>200832</td>\n",
       "      <td>1</td>\n",
       "      <td>29.1729</td>\n",
       "      <td>6.8842</td>\n",
       "      <td>6.8842</td>\n",
       "      <td>64</td>\n",
       "      <td></td>\n",
       "    </tr>\n",
       "  </tbody>\n",
       "</table>\n",
       "</div>"
      ],
      "text/plain": [
       "    Name      FLOP    Weight    Speed (GFLOPS)    Latency (us)    \n",
       "0   main    200832         1           29.1729          6.8842   \\\n",
       "\n",
       "    Weighted Latency (us)    Trials    Done   \n",
       "0                  6.8842        64           "
      ]
     },
     "metadata": {},
     "output_type": "display_data"
    },
    {
     "name": "stdout",
     "output_type": "stream",
     "text": [
      "\n",
      "Total trials: 64\n",
      "Total latency (us): 6.88419\n",
      "\n",
      "2023-06-11 08:50:16 [DEBUG] [task_scheduler.cc:318] \n",
      " ID | Name |   FLOP | Weight | Speed (GFLOPS) | Latency (us) | Weighted Latency (us) | Trials | Done \n",
      "-----------------------------------------------------------------------------------------------------\n",
      "  0 | main | 200832 |      1 |        29.1729 |       6.8842 |                6.8842 |     64 |      \n",
      "-----------------------------------------------------------------------------------------------------\n",
      "Total trials: 64\n",
      "Total latency (us): 6.88419\n",
      "\n",
      "2023-06-11 08:50:16 [INFO] [task_scheduler.cc:260] Task #0 has finished. Remaining task(s): 0\n"
     ]
    },
    {
     "data": {
      "text/html": [
       "<div>\n",
       "<style scoped>\n",
       "    .dataframe tbody tr th:only-of-type {\n",
       "        vertical-align: middle;\n",
       "    }\n",
       "\n",
       "    .dataframe tbody tr th {\n",
       "        vertical-align: top;\n",
       "    }\n",
       "\n",
       "    .dataframe thead th {\n",
       "        text-align: right;\n",
       "    }\n",
       "</style>\n",
       "<table border=\"1\" class=\"dataframe\">\n",
       "  <thead>\n",
       "    <tr style=\"text-align: right;\">\n",
       "      <th></th>\n",
       "      <th>Name</th>\n",
       "      <th>FLOP</th>\n",
       "      <th>Weight</th>\n",
       "      <th>Speed (GFLOPS)</th>\n",
       "      <th>Latency (us)</th>\n",
       "      <th>Weighted Latency (us)</th>\n",
       "      <th>Trials</th>\n",
       "      <th>Done</th>\n",
       "    </tr>\n",
       "  </thead>\n",
       "  <tbody>\n",
       "    <tr>\n",
       "      <th>0</th>\n",
       "      <td>main</td>\n",
       "      <td>200832</td>\n",
       "      <td>1</td>\n",
       "      <td>29.1729</td>\n",
       "      <td>6.8842</td>\n",
       "      <td>6.8842</td>\n",
       "      <td>64</td>\n",
       "      <td>Y</td>\n",
       "    </tr>\n",
       "  </tbody>\n",
       "</table>\n",
       "</div>"
      ],
      "text/plain": [
       "    Name      FLOP    Weight    Speed (GFLOPS)    Latency (us)    \n",
       "0   main    200832         1           29.1729          6.8842   \\\n",
       "\n",
       "    Weighted Latency (us)    Trials    Done   \n",
       "0                  6.8842        64       Y   "
      ]
     },
     "metadata": {},
     "output_type": "display_data"
    },
    {
     "name": "stdout",
     "output_type": "stream",
     "text": [
      "\n",
      "Total trials: 64\n",
      "Total latency (us): 6.88419\n",
      "\n",
      "2023-06-11 08:50:16 [DEBUG] [task_scheduler.cc:318] \n",
      " ID | Name |   FLOP | Weight | Speed (GFLOPS) | Latency (us) | Weighted Latency (us) | Trials | Done \n",
      "-----------------------------------------------------------------------------------------------------\n",
      "  0 | main | 200832 |      1 |        29.1729 |       6.8842 |                6.8842 |     64 |    Y \n",
      "-----------------------------------------------------------------------------------------------------\n",
      "Total trials: 64\n",
      "Total latency (us): 6.88419\n",
      "\n"
     ]
    }
   ],
   "source": [
    "database = ms.tune_tir(\n",
    "    mod=mod_linear,\n",
    "    target=\"llvm --num-cores=1\",\n",
    "    max_trials_global=64,\n",
    "    num_trials_per_iter=64,\n",
    "    work_dir=\"./tune_tmp\",\n",
    "    # task_name=\"main\",\n",
    ")"
   ]
  },
  {
   "attachments": {},
   "cell_type": "markdown",
   "metadata": {
    "id": "WgfZZ2SdEhMV"
   },
   "source": [
    "使用新的 `linear0` 函数，替换掉原来的 `linear0` 函数:\n",
    "\n",
    "1. getting a `global_var`, a `pointer` reference to the functions inside the IRModule,\n",
    "2. calling `update_func` to replace the function with the new one."
   ]
  },
  {
   "cell_type": "code",
   "execution_count": 22,
   "metadata": {
    "colab": {
     "base_uri": "https://localhost:8080/",
     "height": 853
    },
    "id": "nZh9QOgSn013",
    "outputId": "0f3580fd-b4f9-468a-d3e1-246e767420b1"
   },
   "outputs": [
    {
     "data": {
      "text/html": [
       "<div class=\"highlight\" style=\"background: \"><pre style=\"line-height: 125%;\"><span></span><span style=\"color: #007979; font-style: italic\"># from tvm.script import ir as I</span>\n",
       "<span style=\"color: #007979; font-style: italic\"># from tvm.script import tir as T</span>\n",
       "<span style=\"color: #007979; font-style: italic\"># from tvm.script import relax as R</span>\n",
       "\n",
       "\n",
       "<span style=\"color: #AA22FF\">@I</span><span style=\"color: #AA22FF; font-weight: bold\">.</span>ir_module\n",
       "<span style=\"color: #008000; font-weight: bold\">class</span> <span style=\"color: #0000FF; font-weight: bold\">Module</span>:\n",
       "    <span style=\"color: #AA22FF\">@T</span><span style=\"color: #AA22FF; font-weight: bold\">.</span>prim_func\n",
       "    <span style=\"color: #008000; font-weight: bold\">def</span> <span style=\"color: #0000FF\">linear0</span>(\n",
       "        X: T<span style=\"color: #AA22FF; font-weight: bold\">.</span>Buffer((<span style=\"color: #008000\">1</span>, <span style=\"color: #008000\">784</span>), <span style=\"color: #BA2121\">&quot;float32&quot;</span>),\n",
       "        W: T<span style=\"color: #AA22FF; font-weight: bold\">.</span>Buffer((<span style=\"color: #008000\">128</span>, <span style=\"color: #008000\">784</span>), <span style=\"color: #BA2121\">&quot;float32&quot;</span>),\n",
       "        B: T<span style=\"color: #AA22FF; font-weight: bold\">.</span>Buffer((<span style=\"color: #008000\">128</span>,), <span style=\"color: #BA2121\">&quot;float32&quot;</span>),\n",
       "        Z: T<span style=\"color: #AA22FF; font-weight: bold\">.</span>Buffer((<span style=\"color: #008000\">1</span>, <span style=\"color: #008000\">128</span>), <span style=\"color: #BA2121\">&quot;float32&quot;</span>),\n",
       "    ):\n",
       "        T<span style=\"color: #AA22FF; font-weight: bold\">.</span>func_attr({<span style=\"color: #BA2121\">&quot;global_symbol&quot;</span>: <span style=\"color: #BA2121\">&quot;linear0&quot;</span>, <span style=\"color: #BA2121\">&quot;tir.noalias&quot;</span>: T<span style=\"color: #AA22FF; font-weight: bold\">.</span>bool(<span style=\"color: #008000; font-weight: bold\">True</span>)})\n",
       "        <span style=\"color: #007979; font-style: italic\"># with T.block(&quot;root&quot;):</span>\n",
       "        Y <span style=\"color: #AA22FF; font-weight: bold\">=</span> T<span style=\"color: #AA22FF; font-weight: bold\">.</span>alloc_buffer((<span style=\"color: #008000\">1</span>, <span style=\"color: #008000\">128</span>))\n",
       "        <span style=\"color: #008000; font-weight: bold\">for</span> i_0_j_0_i_1_j_1_fused <span style=\"color: #008000; font-weight: bold\">in</span> T<span style=\"color: #AA22FF; font-weight: bold\">.</span>parallel(\n",
       "            <span style=\"color: #008000\">8</span>,\n",
       "            annotations<span style=\"color: #AA22FF; font-weight: bold\">=</span>{\n",
       "                <span style=\"color: #BA2121\">&quot;pragma_auto_unroll_max_step&quot;</span>: T<span style=\"color: #AA22FF; font-weight: bold\">.</span>int64(<span style=\"color: #008000\">64</span>),\n",
       "                <span style=\"color: #BA2121\">&quot;pragma_unroll_explicit&quot;</span>: T<span style=\"color: #AA22FF; font-weight: bold\">.</span>int64(<span style=\"color: #008000\">1</span>),\n",
       "            },\n",
       "        ):\n",
       "            <span style=\"color: #008000; font-weight: bold\">for</span> i_2_init, j_2_init, i_3_init <span style=\"color: #008000; font-weight: bold\">in</span> T<span style=\"color: #AA22FF; font-weight: bold\">.</span>grid(<span style=\"color: #008000\">1</span>, <span style=\"color: #008000\">2</span>, <span style=\"color: #008000\">1</span>):\n",
       "                <span style=\"color: #008000; font-weight: bold\">for</span> j_3_fused_init <span style=\"color: #008000; font-weight: bold\">in</span> T<span style=\"color: #AA22FF; font-weight: bold\">.</span>vectorized(<span style=\"color: #008000\">8</span>):\n",
       "                    <span style=\"color: #008000; font-weight: bold\">with</span> T<span style=\"color: #AA22FF; font-weight: bold\">.</span>block(<span style=\"color: #BA2121\">&quot;Y_init&quot;</span>):\n",
       "                        vi <span style=\"color: #AA22FF; font-weight: bold\">=</span> T<span style=\"color: #AA22FF; font-weight: bold\">.</span>axis<span style=\"color: #AA22FF; font-weight: bold\">.</span>spatial(<span style=\"color: #008000\">1</span>, i_2_init <span style=\"color: #AA22FF; font-weight: bold\">+</span> i_3_init)\n",
       "                        vj <span style=\"color: #AA22FF; font-weight: bold\">=</span> T<span style=\"color: #AA22FF; font-weight: bold\">.</span>axis<span style=\"color: #AA22FF; font-weight: bold\">.</span>spatial(\n",
       "                            <span style=\"color: #008000\">128</span>,\n",
       "                            i_0_j_0_i_1_j_1_fused <span style=\"color: #AA22FF; font-weight: bold\">*</span> <span style=\"color: #008000\">16</span> <span style=\"color: #AA22FF; font-weight: bold\">+</span> j_2_init <span style=\"color: #AA22FF; font-weight: bold\">*</span> <span style=\"color: #008000\">8</span> <span style=\"color: #AA22FF; font-weight: bold\">+</span> j_3_fused_init,\n",
       "                        )\n",
       "                        T<span style=\"color: #AA22FF; font-weight: bold\">.</span>reads()\n",
       "                        T<span style=\"color: #AA22FF; font-weight: bold\">.</span>writes(Y[vi, vj])\n",
       "                        T<span style=\"color: #AA22FF; font-weight: bold\">.</span>block_attr({<span style=\"color: #BA2121\">&quot;meta_schedule.tiling_structure&quot;</span>: <span style=\"color: #BA2121\">&quot;SSRSRS&quot;</span>})\n",
       "                        Y[vi, vj] <span style=\"color: #AA22FF; font-weight: bold\">=</span> T<span style=\"color: #AA22FF; font-weight: bold\">.</span>float32(<span style=\"color: #008000\">0</span>)\n",
       "            <span style=\"color: #008000; font-weight: bold\">for</span> k_0, i_2, j_2, k_1, i_3 <span style=\"color: #008000; font-weight: bold\">in</span> T<span style=\"color: #AA22FF; font-weight: bold\">.</span>grid(<span style=\"color: #008000\">16</span>, <span style=\"color: #008000\">1</span>, <span style=\"color: #008000\">2</span>, <span style=\"color: #008000\">49</span>, <span style=\"color: #008000\">1</span>):\n",
       "                <span style=\"color: #008000; font-weight: bold\">for</span> j_3_fused <span style=\"color: #008000; font-weight: bold\">in</span> T<span style=\"color: #AA22FF; font-weight: bold\">.</span>vectorized(<span style=\"color: #008000\">8</span>):\n",
       "                    <span style=\"color: #008000; font-weight: bold\">with</span> T<span style=\"color: #AA22FF; font-weight: bold\">.</span>block(<span style=\"color: #BA2121\">&quot;Y_update&quot;</span>):\n",
       "                        vi <span style=\"color: #AA22FF; font-weight: bold\">=</span> T<span style=\"color: #AA22FF; font-weight: bold\">.</span>axis<span style=\"color: #AA22FF; font-weight: bold\">.</span>spatial(<span style=\"color: #008000\">1</span>, i_2 <span style=\"color: #AA22FF; font-weight: bold\">+</span> i_3)\n",
       "                        vj <span style=\"color: #AA22FF; font-weight: bold\">=</span> T<span style=\"color: #AA22FF; font-weight: bold\">.</span>axis<span style=\"color: #AA22FF; font-weight: bold\">.</span>spatial(\n",
       "                            <span style=\"color: #008000\">128</span>, i_0_j_0_i_1_j_1_fused <span style=\"color: #AA22FF; font-weight: bold\">*</span> <span style=\"color: #008000\">16</span> <span style=\"color: #AA22FF; font-weight: bold\">+</span> j_2 <span style=\"color: #AA22FF; font-weight: bold\">*</span> <span style=\"color: #008000\">8</span> <span style=\"color: #AA22FF; font-weight: bold\">+</span> j_3_fused\n",
       "                        )\n",
       "                        vk <span style=\"color: #AA22FF; font-weight: bold\">=</span> T<span style=\"color: #AA22FF; font-weight: bold\">.</span>axis<span style=\"color: #AA22FF; font-weight: bold\">.</span>reduce(<span style=\"color: #008000\">784</span>, k_0 <span style=\"color: #AA22FF; font-weight: bold\">*</span> <span style=\"color: #008000\">49</span> <span style=\"color: #AA22FF; font-weight: bold\">+</span> k_1)\n",
       "                        T<span style=\"color: #AA22FF; font-weight: bold\">.</span>reads(Y[vi, vj], X[vi, vk], W[vj, vk])\n",
       "                        T<span style=\"color: #AA22FF; font-weight: bold\">.</span>writes(Y[vi, vj])\n",
       "                        T<span style=\"color: #AA22FF; font-weight: bold\">.</span>block_attr({<span style=\"color: #BA2121\">&quot;meta_schedule.tiling_structure&quot;</span>: <span style=\"color: #BA2121\">&quot;SSRSRS&quot;</span>})\n",
       "                        Y[vi, vj] <span style=\"color: #AA22FF; font-weight: bold\">=</span> Y[vi, vj] <span style=\"color: #AA22FF; font-weight: bold\">+</span> X[vi, vk] <span style=\"color: #AA22FF; font-weight: bold\">*</span> W[vj, vk]\n",
       "            <span style=\"color: #008000; font-weight: bold\">for</span> ax0 <span style=\"color: #008000; font-weight: bold\">in</span> range(<span style=\"color: #008000\">1</span>):\n",
       "                <span style=\"color: #008000; font-weight: bold\">for</span> ax1_fused <span style=\"color: #008000; font-weight: bold\">in</span> T<span style=\"color: #AA22FF; font-weight: bold\">.</span>vectorized(<span style=\"color: #008000\">16</span>):\n",
       "                    <span style=\"color: #008000; font-weight: bold\">with</span> T<span style=\"color: #AA22FF; font-weight: bold\">.</span>block(<span style=\"color: #BA2121\">&quot;Z&quot;</span>):\n",
       "                        vi <span style=\"color: #AA22FF; font-weight: bold\">=</span> T<span style=\"color: #AA22FF; font-weight: bold\">.</span>axis<span style=\"color: #AA22FF; font-weight: bold\">.</span>spatial(<span style=\"color: #008000\">1</span>, ax0)\n",
       "                        vj <span style=\"color: #AA22FF; font-weight: bold\">=</span> T<span style=\"color: #AA22FF; font-weight: bold\">.</span>axis<span style=\"color: #AA22FF; font-weight: bold\">.</span>spatial(<span style=\"color: #008000\">128</span>, i_0_j_0_i_1_j_1_fused <span style=\"color: #AA22FF; font-weight: bold\">*</span> <span style=\"color: #008000\">16</span> <span style=\"color: #AA22FF; font-weight: bold\">+</span> ax1_fused)\n",
       "                        T<span style=\"color: #AA22FF; font-weight: bold\">.</span>reads(Y[vi, vj], B[vj])\n",
       "                        T<span style=\"color: #AA22FF; font-weight: bold\">.</span>writes(Z[vi, vj])\n",
       "                        Z[vi, vj] <span style=\"color: #AA22FF; font-weight: bold\">=</span> Y[vi, vj] <span style=\"color: #AA22FF; font-weight: bold\">+</span> B[vj]\n",
       "\n",
       "    <span style=\"color: #AA22FF\">@R</span><span style=\"color: #AA22FF; font-weight: bold\">.</span>function\n",
       "    <span style=\"color: #008000; font-weight: bold\">def</span> <span style=\"color: #0000FF\">main</span>(\n",
       "        x: R<span style=\"color: #AA22FF; font-weight: bold\">.</span>Tensor((<span style=\"color: #008000\">1</span>, <span style=\"color: #008000\">784</span>), dtype<span style=\"color: #AA22FF; font-weight: bold\">=</span><span style=\"color: #BA2121\">&quot;float32&quot;</span>)\n",
       "    ) <span style=\"color: #AA22FF; font-weight: bold\">-&gt;</span> R<span style=\"color: #AA22FF; font-weight: bold\">.</span>Tensor((<span style=\"color: #008000\">1</span>, <span style=\"color: #008000\">10</span>), dtype<span style=\"color: #AA22FF; font-weight: bold\">=</span><span style=\"color: #BA2121\">&quot;float32&quot;</span>):\n",
       "        cls <span style=\"color: #AA22FF; font-weight: bold\">=</span> Module\n",
       "        <span style=\"color: #008000; font-weight: bold\">with</span> R<span style=\"color: #AA22FF; font-weight: bold\">.</span>dataflow():\n",
       "            lv0 <span style=\"color: #AA22FF; font-weight: bold\">=</span> R<span style=\"color: #AA22FF; font-weight: bold\">.</span>call_tir(\n",
       "                cls<span style=\"color: #AA22FF; font-weight: bold\">.</span>linear0,\n",
       "                (\n",
       "                    x,\n",
       "                    metadata[<span style=\"color: #BA2121\">&quot;relax.expr.Constant&quot;</span>][<span style=\"color: #008000\">0</span>],\n",
       "                    metadata[<span style=\"color: #BA2121\">&quot;relax.expr.Constant&quot;</span>][<span style=\"color: #008000\">1</span>],\n",
       "                ),\n",
       "                out_sinfo<span style=\"color: #AA22FF; font-weight: bold\">=</span>R<span style=\"color: #AA22FF; font-weight: bold\">.</span>Tensor((<span style=\"color: #008000\">1</span>, <span style=\"color: #008000\">128</span>), dtype<span style=\"color: #AA22FF; font-weight: bold\">=</span><span style=\"color: #BA2121\">&quot;float32&quot;</span>),\n",
       "            )\n",
       "            lv1 <span style=\"color: #AA22FF; font-weight: bold\">=</span> R<span style=\"color: #AA22FF; font-weight: bold\">.</span>call_dps_packed(\n",
       "                <span style=\"color: #BA2121\">&quot;env.relu&quot;</span>, (lv0,), out_sinfo<span style=\"color: #AA22FF; font-weight: bold\">=</span>R<span style=\"color: #AA22FF; font-weight: bold\">.</span>Tensor((<span style=\"color: #008000\">1</span>, <span style=\"color: #008000\">128</span>), dtype<span style=\"color: #AA22FF; font-weight: bold\">=</span><span style=\"color: #BA2121\">&quot;float32&quot;</span>)\n",
       "            )\n",
       "            out <span style=\"color: #AA22FF; font-weight: bold\">=</span> R<span style=\"color: #AA22FF; font-weight: bold\">.</span>call_dps_packed(\n",
       "                <span style=\"color: #BA2121\">&quot;env.linear&quot;</span>,\n",
       "                (\n",
       "                    lv1,\n",
       "                    metadata[<span style=\"color: #BA2121\">&quot;relax.expr.Constant&quot;</span>][<span style=\"color: #008000\">2</span>],\n",
       "                    metadata[<span style=\"color: #BA2121\">&quot;relax.expr.Constant&quot;</span>][<span style=\"color: #008000\">3</span>],\n",
       "                ),\n",
       "                out_sinfo<span style=\"color: #AA22FF; font-weight: bold\">=</span>R<span style=\"color: #AA22FF; font-weight: bold\">.</span>Tensor((<span style=\"color: #008000\">1</span>, <span style=\"color: #008000\">10</span>), dtype<span style=\"color: #AA22FF; font-weight: bold\">=</span><span style=\"color: #BA2121\">&quot;float32&quot;</span>),\n",
       "            )\n",
       "            R<span style=\"color: #AA22FF; font-weight: bold\">.</span>output(out)\n",
       "        <span style=\"color: #008000; font-weight: bold\">return</span> out\n",
       "\n",
       "\n",
       "<span style=\"color: #007979; font-style: italic\"># Metadata omitted. Use show_meta=True in script() method to show it.</span>\n",
       "</pre></div>\n"
      ],
      "text/plain": [
       "<IPython.core.display.HTML object>"
      ]
     },
     "metadata": {},
     "output_type": "display_data"
    }
   ],
   "source": [
    "MyModuleWithParams2 = relax.transform.BindParams(\"main\", nd_params)(MyModuleMixture)\n",
    "\n",
    "sch_tuned_linear = ms.tir_integration.compile_tir(database, mod_linear, target=\"llvm --num-cores=1\")\n",
    "new_func = sch_tuned_linear.mod[\"main\"].with_attr(\"global_symbol\", \"linear0\")\n",
    "gv = MyModuleWithParams2.get_global_var(\"linear0\")\n",
    "MyModuleWithParams2.update_func(gv, new_func)\n",
    "\n",
    "MyModuleWithParams2.show()"
   ]
  },
  {
   "cell_type": "code",
   "execution_count": 23,
   "metadata": {
    "colab": {
     "base_uri": "https://localhost:8080/"
    },
    "id": "4DPNPP4DpKI6",
    "outputId": "564fb257-a734-4e8b-843c-c4812ec13e4c"
   },
   "outputs": [
    {
     "name": "stdout",
     "output_type": "stream",
     "text": [
      "MyModuleWithParams2 Prediction: Trouser\n"
     ]
    }
   ],
   "source": [
    "ex = relax.build(MyModuleWithParams2, target=\"llvm\")\n",
    "vm = relax.VirtualMachine(ex, tvm.cpu())\n",
    "\n",
    "# vm[\"main\"].mod.show()\n",
    "nd_res = vm[\"main\"](data_nd)\n",
    "\n",
    "pred_kind = np.argmax(nd_res.numpy(), axis=1)\n",
    "print(\"MyModuleWithParams2 Prediction:\", class_names[pred_kind[0]])"
   ]
  },
  {
   "cell_type": "code",
   "execution_count": 24,
   "metadata": {
    "colab": {
     "base_uri": "https://localhost:8080/"
    },
    "id": "Oo87n_-HozOV",
    "outputId": "0e327404-1507-4533-906c-88f9685bebbd"
   },
   "outputs": [
    {
     "name": "stdout",
     "output_type": "stream",
     "text": [
      "MyModuleWithParams2 time-cost: 0.148056 ms\n"
     ]
    }
   ],
   "source": [
    "ftimer = vm.module.time_evaluator(\"main\", tvm.cpu(), number=50)\n",
    "\n",
    "print(\"MyModuleWithParams2 time-cost: %g ms\" % (ftimer(data_nd).mean * 1000))"
   ]
  },
  {
   "cell_type": "code",
   "execution_count": null,
   "metadata": {},
   "outputs": [],
   "source": []
  }
 ],
 "metadata": {
  "colab": {
   "collapsed_sections": [],
   "include_colab_link": true,
   "name": "5 Automatic Program Optimization.ipynb",
   "provenance": []
  },
  "kernelspec": {
   "display_name": "Python 3 (ipykernel)",
   "language": "python",
   "name": "python3"
  },
  "language_info": {
   "codemirror_mode": {
    "name": "ipython",
    "version": 3
   },
   "file_extension": ".py",
   "mimetype": "text/x-python",
   "name": "python",
   "nbconvert_exporter": "python",
   "pygments_lexer": "ipython3",
   "version": "3.8.16"
  },
  "vscode": {
   "interpreter": {
    "hash": "627c9bab10703eb6aeef9eb7878e170fc9b4c286907d2f57f69386b0ac98efcb"
   }
  },
  "widgets": {
   "application/vnd.jupyter.widget-state+json": {
    "014e097bb2c540f6836c61175a9bcba5": {
     "model_module": "@jupyter-widgets/controls",
     "model_module_version": "1.5.0",
     "model_name": "HTMLModel",
     "state": {
      "_dom_classes": [],
      "_model_module": "@jupyter-widgets/controls",
      "_model_module_version": "1.5.0",
      "_model_name": "HTMLModel",
      "_view_count": null,
      "_view_module": "@jupyter-widgets/controls",
      "_view_module_version": "1.5.0",
      "_view_name": "HTMLView",
      "description": "",
      "description_tooltip": null,
      "layout": "IPY_MODEL_b844d16570ce447598ddcf3ec084608a",
      "placeholder": "​",
      "style": "IPY_MODEL_dd2d6dfae7f34fa2af3a4f89bd7660bb",
      "value": " 5148/5148 [00:00&lt;00:00, 134903.67it/s]"
     }
    },
    "0e91dc133cd440f9973acd52f341b532": {
     "model_module": "@jupyter-widgets/controls",
     "model_module_version": "1.5.0",
     "model_name": "HBoxModel",
     "state": {
      "_dom_classes": [],
      "_model_module": "@jupyter-widgets/controls",
      "_model_module_version": "1.5.0",
      "_model_name": "HBoxModel",
      "_view_count": null,
      "_view_module": "@jupyter-widgets/controls",
      "_view_module_version": "1.5.0",
      "_view_name": "HBoxView",
      "box_style": "",
      "children": [
       "IPY_MODEL_de8f202890da499fa532e39882aa39ad",
       "IPY_MODEL_4cf4c23aaea549daa6ec02712c5229f7",
       "IPY_MODEL_42dbf79dd8804855a48940bd61adfd8c"
      ],
      "layout": "IPY_MODEL_9d928a84ddb2401eb8ac38b1905167b9"
     }
    },
    "1dec5c156112404e84fd30a8f2bb6dda": {
     "model_module": "@jupyter-widgets/base",
     "model_module_version": "1.2.0",
     "model_name": "LayoutModel",
     "state": {
      "_model_module": "@jupyter-widgets/base",
      "_model_module_version": "1.2.0",
      "_model_name": "LayoutModel",
      "_view_count": null,
      "_view_module": "@jupyter-widgets/base",
      "_view_module_version": "1.2.0",
      "_view_name": "LayoutView",
      "align_content": null,
      "align_items": null,
      "align_self": null,
      "border": null,
      "bottom": null,
      "display": null,
      "flex": null,
      "flex_flow": null,
      "grid_area": null,
      "grid_auto_columns": null,
      "grid_auto_flow": null,
      "grid_auto_rows": null,
      "grid_column": null,
      "grid_gap": null,
      "grid_row": null,
      "grid_template_areas": null,
      "grid_template_columns": null,
      "grid_template_rows": null,
      "height": null,
      "justify_content": null,
      "justify_items": null,
      "left": null,
      "margin": null,
      "max_height": null,
      "max_width": null,
      "min_height": null,
      "min_width": null,
      "object_fit": null,
      "object_position": null,
      "order": null,
      "overflow": null,
      "overflow_x": null,
      "overflow_y": null,
      "padding": null,
      "right": null,
      "top": null,
      "visibility": null,
      "width": null
     }
    },
    "20e53fd4a49d4188a83fb152fac32a20": {
     "model_module": "@jupyter-widgets/base",
     "model_module_version": "1.2.0",
     "model_name": "LayoutModel",
     "state": {
      "_model_module": "@jupyter-widgets/base",
      "_model_module_version": "1.2.0",
      "_model_name": "LayoutModel",
      "_view_count": null,
      "_view_module": "@jupyter-widgets/base",
      "_view_module_version": "1.2.0",
      "_view_name": "LayoutView",
      "align_content": null,
      "align_items": null,
      "align_self": null,
      "border": null,
      "bottom": null,
      "display": null,
      "flex": null,
      "flex_flow": null,
      "grid_area": null,
      "grid_auto_columns": null,
      "grid_auto_flow": null,
      "grid_auto_rows": null,
      "grid_column": null,
      "grid_gap": null,
      "grid_row": null,
      "grid_template_areas": null,
      "grid_template_columns": null,
      "grid_template_rows": null,
      "height": null,
      "justify_content": null,
      "justify_items": null,
      "left": null,
      "margin": null,
      "max_height": null,
      "max_width": null,
      "min_height": null,
      "min_width": null,
      "object_fit": null,
      "object_position": null,
      "order": null,
      "overflow": null,
      "overflow_x": null,
      "overflow_y": null,
      "padding": null,
      "right": null,
      "top": null,
      "visibility": null,
      "width": null
     }
    },
    "2441c125a1b645b6bb7124fdc667a6ac": {
     "model_module": "@jupyter-widgets/controls",
     "model_module_version": "1.5.0",
     "model_name": "DescriptionStyleModel",
     "state": {
      "_model_module": "@jupyter-widgets/controls",
      "_model_module_version": "1.5.0",
      "_model_name": "DescriptionStyleModel",
      "_view_count": null,
      "_view_module": "@jupyter-widgets/base",
      "_view_module_version": "1.2.0",
      "_view_name": "StyleView",
      "description_width": ""
     }
    },
    "2afdb5134ffd48b5a3ea36fdf13f3ca9": {
     "model_module": "@jupyter-widgets/base",
     "model_module_version": "1.2.0",
     "model_name": "LayoutModel",
     "state": {
      "_model_module": "@jupyter-widgets/base",
      "_model_module_version": "1.2.0",
      "_model_name": "LayoutModel",
      "_view_count": null,
      "_view_module": "@jupyter-widgets/base",
      "_view_module_version": "1.2.0",
      "_view_name": "LayoutView",
      "align_content": null,
      "align_items": null,
      "align_self": null,
      "border": null,
      "bottom": null,
      "display": null,
      "flex": null,
      "flex_flow": null,
      "grid_area": null,
      "grid_auto_columns": null,
      "grid_auto_flow": null,
      "grid_auto_rows": null,
      "grid_column": null,
      "grid_gap": null,
      "grid_row": null,
      "grid_template_areas": null,
      "grid_template_columns": null,
      "grid_template_rows": null,
      "height": null,
      "justify_content": null,
      "justify_items": null,
      "left": null,
      "margin": null,
      "max_height": null,
      "max_width": null,
      "min_height": null,
      "min_width": null,
      "object_fit": null,
      "object_position": null,
      "order": null,
      "overflow": null,
      "overflow_x": null,
      "overflow_y": null,
      "padding": null,
      "right": null,
      "top": null,
      "visibility": null,
      "width": null
     }
    },
    "401ac5195b714b7bae27caddb02d9dae": {
     "model_module": "@jupyter-widgets/base",
     "model_module_version": "1.2.0",
     "model_name": "LayoutModel",
     "state": {
      "_model_module": "@jupyter-widgets/base",
      "_model_module_version": "1.2.0",
      "_model_name": "LayoutModel",
      "_view_count": null,
      "_view_module": "@jupyter-widgets/base",
      "_view_module_version": "1.2.0",
      "_view_name": "LayoutView",
      "align_content": null,
      "align_items": null,
      "align_self": null,
      "border": null,
      "bottom": null,
      "display": null,
      "flex": null,
      "flex_flow": null,
      "grid_area": null,
      "grid_auto_columns": null,
      "grid_auto_flow": null,
      "grid_auto_rows": null,
      "grid_column": null,
      "grid_gap": null,
      "grid_row": null,
      "grid_template_areas": null,
      "grid_template_columns": null,
      "grid_template_rows": null,
      "height": null,
      "justify_content": null,
      "justify_items": null,
      "left": null,
      "margin": null,
      "max_height": null,
      "max_width": null,
      "min_height": null,
      "min_width": null,
      "object_fit": null,
      "object_position": null,
      "order": null,
      "overflow": null,
      "overflow_x": null,
      "overflow_y": null,
      "padding": null,
      "right": null,
      "top": null,
      "visibility": null,
      "width": null
     }
    },
    "418492022d584305b781ef243b35213a": {
     "model_module": "@jupyter-widgets/base",
     "model_module_version": "1.2.0",
     "model_name": "LayoutModel",
     "state": {
      "_model_module": "@jupyter-widgets/base",
      "_model_module_version": "1.2.0",
      "_model_name": "LayoutModel",
      "_view_count": null,
      "_view_module": "@jupyter-widgets/base",
      "_view_module_version": "1.2.0",
      "_view_name": "LayoutView",
      "align_content": null,
      "align_items": null,
      "align_self": null,
      "border": null,
      "bottom": null,
      "display": null,
      "flex": null,
      "flex_flow": null,
      "grid_area": null,
      "grid_auto_columns": null,
      "grid_auto_flow": null,
      "grid_auto_rows": null,
      "grid_column": null,
      "grid_gap": null,
      "grid_row": null,
      "grid_template_areas": null,
      "grid_template_columns": null,
      "grid_template_rows": null,
      "height": null,
      "justify_content": null,
      "justify_items": null,
      "left": null,
      "margin": null,
      "max_height": null,
      "max_width": null,
      "min_height": null,
      "min_width": null,
      "object_fit": null,
      "object_position": null,
      "order": null,
      "overflow": null,
      "overflow_x": null,
      "overflow_y": null,
      "padding": null,
      "right": null,
      "top": null,
      "visibility": null,
      "width": null
     }
    },
    "42dbf79dd8804855a48940bd61adfd8c": {
     "model_module": "@jupyter-widgets/controls",
     "model_module_version": "1.5.0",
     "model_name": "HTMLModel",
     "state": {
      "_dom_classes": [],
      "_model_module": "@jupyter-widgets/controls",
      "_model_module_version": "1.5.0",
      "_model_name": "HTMLModel",
      "_view_count": null,
      "_view_module": "@jupyter-widgets/controls",
      "_view_module_version": "1.5.0",
      "_view_name": "HTMLView",
      "description": "",
      "description_tooltip": null,
      "layout": "IPY_MODEL_1dec5c156112404e84fd30a8f2bb6dda",
      "placeholder": "​",
      "style": "IPY_MODEL_2441c125a1b645b6bb7124fdc667a6ac",
      "value": " 26421880/26421880 [00:02&lt;00:00, 18779588.66it/s]"
     }
    },
    "463fc2365d084c03bb57e60310ef7797": {
     "model_module": "@jupyter-widgets/controls",
     "model_module_version": "1.5.0",
     "model_name": "HBoxModel",
     "state": {
      "_dom_classes": [],
      "_model_module": "@jupyter-widgets/controls",
      "_model_module_version": "1.5.0",
      "_model_name": "HBoxModel",
      "_view_count": null,
      "_view_module": "@jupyter-widgets/controls",
      "_view_module_version": "1.5.0",
      "_view_name": "HBoxView",
      "box_style": "",
      "children": [
       "IPY_MODEL_5b5d9289df9b40a89e34ce048dfa0ece",
       "IPY_MODEL_7bd374159df44db9a117e97583427122",
       "IPY_MODEL_014e097bb2c540f6836c61175a9bcba5"
      ],
      "layout": "IPY_MODEL_7cb25b7ea7894bf999948823015a42c1"
     }
    },
    "46e69b009d8d419b854c789933bb31cc": {
     "model_module": "@jupyter-widgets/controls",
     "model_module_version": "1.5.0",
     "model_name": "FloatProgressModel",
     "state": {
      "_dom_classes": [],
      "_model_module": "@jupyter-widgets/controls",
      "_model_module_version": "1.5.0",
      "_model_name": "FloatProgressModel",
      "_view_count": null,
      "_view_module": "@jupyter-widgets/controls",
      "_view_module_version": "1.5.0",
      "_view_name": "ProgressView",
      "bar_style": "success",
      "description": "",
      "description_tooltip": null,
      "layout": "IPY_MODEL_ab6012bbe9a54f23aeee9fc8985b0cd7",
      "max": 29515,
      "min": 0,
      "orientation": "horizontal",
      "style": "IPY_MODEL_f2efbbf0de6f4245b5ed7b29d62aee7e",
      "value": 29515
     }
    },
    "49f847d7f2ae48d5a274bcba1b352527": {
     "model_module": "@jupyter-widgets/base",
     "model_module_version": "1.2.0",
     "model_name": "LayoutModel",
     "state": {
      "_model_module": "@jupyter-widgets/base",
      "_model_module_version": "1.2.0",
      "_model_name": "LayoutModel",
      "_view_count": null,
      "_view_module": "@jupyter-widgets/base",
      "_view_module_version": "1.2.0",
      "_view_name": "LayoutView",
      "align_content": null,
      "align_items": null,
      "align_self": null,
      "border": null,
      "bottom": null,
      "display": null,
      "flex": null,
      "flex_flow": null,
      "grid_area": null,
      "grid_auto_columns": null,
      "grid_auto_flow": null,
      "grid_auto_rows": null,
      "grid_column": null,
      "grid_gap": null,
      "grid_row": null,
      "grid_template_areas": null,
      "grid_template_columns": null,
      "grid_template_rows": null,
      "height": null,
      "justify_content": null,
      "justify_items": null,
      "left": null,
      "margin": null,
      "max_height": null,
      "max_width": null,
      "min_height": null,
      "min_width": null,
      "object_fit": null,
      "object_position": null,
      "order": null,
      "overflow": null,
      "overflow_x": null,
      "overflow_y": null,
      "padding": null,
      "right": null,
      "top": null,
      "visibility": null,
      "width": null
     }
    },
    "4b8f0c2e31fe4218902f572cdc73e9d2": {
     "model_module": "@jupyter-widgets/controls",
     "model_module_version": "1.5.0",
     "model_name": "DescriptionStyleModel",
     "state": {
      "_model_module": "@jupyter-widgets/controls",
      "_model_module_version": "1.5.0",
      "_model_name": "DescriptionStyleModel",
      "_view_count": null,
      "_view_module": "@jupyter-widgets/base",
      "_view_module_version": "1.2.0",
      "_view_name": "StyleView",
      "description_width": ""
     }
    },
    "4cf4c23aaea549daa6ec02712c5229f7": {
     "model_module": "@jupyter-widgets/controls",
     "model_module_version": "1.5.0",
     "model_name": "FloatProgressModel",
     "state": {
      "_dom_classes": [],
      "_model_module": "@jupyter-widgets/controls",
      "_model_module_version": "1.5.0",
      "_model_name": "FloatProgressModel",
      "_view_count": null,
      "_view_module": "@jupyter-widgets/controls",
      "_view_module_version": "1.5.0",
      "_view_name": "ProgressView",
      "bar_style": "success",
      "description": "",
      "description_tooltip": null,
      "layout": "IPY_MODEL_20e53fd4a49d4188a83fb152fac32a20",
      "max": 26421880,
      "min": 0,
      "orientation": "horizontal",
      "style": "IPY_MODEL_5edd0c12e56a4179be3775303eeecb5d",
      "value": 26421880
     }
    },
    "5b5d9289df9b40a89e34ce048dfa0ece": {
     "model_module": "@jupyter-widgets/controls",
     "model_module_version": "1.5.0",
     "model_name": "HTMLModel",
     "state": {
      "_dom_classes": [],
      "_model_module": "@jupyter-widgets/controls",
      "_model_module_version": "1.5.0",
      "_model_name": "HTMLModel",
      "_view_count": null,
      "_view_module": "@jupyter-widgets/controls",
      "_view_module_version": "1.5.0",
      "_view_name": "HTMLView",
      "description": "",
      "description_tooltip": null,
      "layout": "IPY_MODEL_8b87c5c46b2a496e8fce50e8d94f0364",
      "placeholder": "​",
      "style": "IPY_MODEL_4b8f0c2e31fe4218902f572cdc73e9d2",
      "value": "100%"
     }
    },
    "5d03cf1d574f4319a78fd194c1802506": {
     "model_module": "@jupyter-widgets/controls",
     "model_module_version": "1.5.0",
     "model_name": "DescriptionStyleModel",
     "state": {
      "_model_module": "@jupyter-widgets/controls",
      "_model_module_version": "1.5.0",
      "_model_name": "DescriptionStyleModel",
      "_view_count": null,
      "_view_module": "@jupyter-widgets/base",
      "_view_module_version": "1.2.0",
      "_view_name": "StyleView",
      "description_width": ""
     }
    },
    "5edd0c12e56a4179be3775303eeecb5d": {
     "model_module": "@jupyter-widgets/controls",
     "model_module_version": "1.5.0",
     "model_name": "ProgressStyleModel",
     "state": {
      "_model_module": "@jupyter-widgets/controls",
      "_model_module_version": "1.5.0",
      "_model_name": "ProgressStyleModel",
      "_view_count": null,
      "_view_module": "@jupyter-widgets/base",
      "_view_module_version": "1.2.0",
      "_view_name": "StyleView",
      "bar_color": null,
      "description_width": ""
     }
    },
    "7bd374159df44db9a117e97583427122": {
     "model_module": "@jupyter-widgets/controls",
     "model_module_version": "1.5.0",
     "model_name": "FloatProgressModel",
     "state": {
      "_dom_classes": [],
      "_model_module": "@jupyter-widgets/controls",
      "_model_module_version": "1.5.0",
      "_model_name": "FloatProgressModel",
      "_view_count": null,
      "_view_module": "@jupyter-widgets/controls",
      "_view_module_version": "1.5.0",
      "_view_name": "ProgressView",
      "bar_style": "success",
      "description": "",
      "description_tooltip": null,
      "layout": "IPY_MODEL_8cdfa0916bf6417a91fb4b19c44d0021",
      "max": 5148,
      "min": 0,
      "orientation": "horizontal",
      "style": "IPY_MODEL_eeb96b697cfa48b5add99d3931574ecb",
      "value": 5148
     }
    },
    "7cb25b7ea7894bf999948823015a42c1": {
     "model_module": "@jupyter-widgets/base",
     "model_module_version": "1.2.0",
     "model_name": "LayoutModel",
     "state": {
      "_model_module": "@jupyter-widgets/base",
      "_model_module_version": "1.2.0",
      "_model_name": "LayoutModel",
      "_view_count": null,
      "_view_module": "@jupyter-widgets/base",
      "_view_module_version": "1.2.0",
      "_view_name": "LayoutView",
      "align_content": null,
      "align_items": null,
      "align_self": null,
      "border": null,
      "bottom": null,
      "display": null,
      "flex": null,
      "flex_flow": null,
      "grid_area": null,
      "grid_auto_columns": null,
      "grid_auto_flow": null,
      "grid_auto_rows": null,
      "grid_column": null,
      "grid_gap": null,
      "grid_row": null,
      "grid_template_areas": null,
      "grid_template_columns": null,
      "grid_template_rows": null,
      "height": null,
      "justify_content": null,
      "justify_items": null,
      "left": null,
      "margin": null,
      "max_height": null,
      "max_width": null,
      "min_height": null,
      "min_width": null,
      "object_fit": null,
      "object_position": null,
      "order": null,
      "overflow": null,
      "overflow_x": null,
      "overflow_y": null,
      "padding": null,
      "right": null,
      "top": null,
      "visibility": null,
      "width": null
     }
    },
    "808f5d3718ba40ad80882d8afcc6b70f": {
     "model_module": "@jupyter-widgets/controls",
     "model_module_version": "1.5.0",
     "model_name": "DescriptionStyleModel",
     "state": {
      "_model_module": "@jupyter-widgets/controls",
      "_model_module_version": "1.5.0",
      "_model_name": "DescriptionStyleModel",
      "_view_count": null,
      "_view_module": "@jupyter-widgets/base",
      "_view_module_version": "1.2.0",
      "_view_name": "StyleView",
      "description_width": ""
     }
    },
    "82820ce83cfb4c38bdf36e249b4c7d90": {
     "model_module": "@jupyter-widgets/controls",
     "model_module_version": "1.5.0",
     "model_name": "HBoxModel",
     "state": {
      "_dom_classes": [],
      "_model_module": "@jupyter-widgets/controls",
      "_model_module_version": "1.5.0",
      "_model_name": "HBoxModel",
      "_view_count": null,
      "_view_module": "@jupyter-widgets/controls",
      "_view_module_version": "1.5.0",
      "_view_name": "HBoxView",
      "box_style": "",
      "children": [
       "IPY_MODEL_de6746f353614fa2b61e007c811dc6cf",
       "IPY_MODEL_46e69b009d8d419b854c789933bb31cc",
       "IPY_MODEL_c265c2e58744434a9896884b4ab8f555"
      ],
      "layout": "IPY_MODEL_49f847d7f2ae48d5a274bcba1b352527"
     }
    },
    "8b87c5c46b2a496e8fce50e8d94f0364": {
     "model_module": "@jupyter-widgets/base",
     "model_module_version": "1.2.0",
     "model_name": "LayoutModel",
     "state": {
      "_model_module": "@jupyter-widgets/base",
      "_model_module_version": "1.2.0",
      "_model_name": "LayoutModel",
      "_view_count": null,
      "_view_module": "@jupyter-widgets/base",
      "_view_module_version": "1.2.0",
      "_view_name": "LayoutView",
      "align_content": null,
      "align_items": null,
      "align_self": null,
      "border": null,
      "bottom": null,
      "display": null,
      "flex": null,
      "flex_flow": null,
      "grid_area": null,
      "grid_auto_columns": null,
      "grid_auto_flow": null,
      "grid_auto_rows": null,
      "grid_column": null,
      "grid_gap": null,
      "grid_row": null,
      "grid_template_areas": null,
      "grid_template_columns": null,
      "grid_template_rows": null,
      "height": null,
      "justify_content": null,
      "justify_items": null,
      "left": null,
      "margin": null,
      "max_height": null,
      "max_width": null,
      "min_height": null,
      "min_width": null,
      "object_fit": null,
      "object_position": null,
      "order": null,
      "overflow": null,
      "overflow_x": null,
      "overflow_y": null,
      "padding": null,
      "right": null,
      "top": null,
      "visibility": null,
      "width": null
     }
    },
    "8cdfa0916bf6417a91fb4b19c44d0021": {
     "model_module": "@jupyter-widgets/base",
     "model_module_version": "1.2.0",
     "model_name": "LayoutModel",
     "state": {
      "_model_module": "@jupyter-widgets/base",
      "_model_module_version": "1.2.0",
      "_model_name": "LayoutModel",
      "_view_count": null,
      "_view_module": "@jupyter-widgets/base",
      "_view_module_version": "1.2.0",
      "_view_name": "LayoutView",
      "align_content": null,
      "align_items": null,
      "align_self": null,
      "border": null,
      "bottom": null,
      "display": null,
      "flex": null,
      "flex_flow": null,
      "grid_area": null,
      "grid_auto_columns": null,
      "grid_auto_flow": null,
      "grid_auto_rows": null,
      "grid_column": null,
      "grid_gap": null,
      "grid_row": null,
      "grid_template_areas": null,
      "grid_template_columns": null,
      "grid_template_rows": null,
      "height": null,
      "justify_content": null,
      "justify_items": null,
      "left": null,
      "margin": null,
      "max_height": null,
      "max_width": null,
      "min_height": null,
      "min_width": null,
      "object_fit": null,
      "object_position": null,
      "order": null,
      "overflow": null,
      "overflow_x": null,
      "overflow_y": null,
      "padding": null,
      "right": null,
      "top": null,
      "visibility": null,
      "width": null
     }
    },
    "9d928a84ddb2401eb8ac38b1905167b9": {
     "model_module": "@jupyter-widgets/base",
     "model_module_version": "1.2.0",
     "model_name": "LayoutModel",
     "state": {
      "_model_module": "@jupyter-widgets/base",
      "_model_module_version": "1.2.0",
      "_model_name": "LayoutModel",
      "_view_count": null,
      "_view_module": "@jupyter-widgets/base",
      "_view_module_version": "1.2.0",
      "_view_name": "LayoutView",
      "align_content": null,
      "align_items": null,
      "align_self": null,
      "border": null,
      "bottom": null,
      "display": null,
      "flex": null,
      "flex_flow": null,
      "grid_area": null,
      "grid_auto_columns": null,
      "grid_auto_flow": null,
      "grid_auto_rows": null,
      "grid_column": null,
      "grid_gap": null,
      "grid_row": null,
      "grid_template_areas": null,
      "grid_template_columns": null,
      "grid_template_rows": null,
      "height": null,
      "justify_content": null,
      "justify_items": null,
      "left": null,
      "margin": null,
      "max_height": null,
      "max_width": null,
      "min_height": null,
      "min_width": null,
      "object_fit": null,
      "object_position": null,
      "order": null,
      "overflow": null,
      "overflow_x": null,
      "overflow_y": null,
      "padding": null,
      "right": null,
      "top": null,
      "visibility": null,
      "width": null
     }
    },
    "aabc8a2be63b4dcfabe841fb2b22fd95": {
     "model_module": "@jupyter-widgets/controls",
     "model_module_version": "1.5.0",
     "model_name": "FloatProgressModel",
     "state": {
      "_dom_classes": [],
      "_model_module": "@jupyter-widgets/controls",
      "_model_module_version": "1.5.0",
      "_model_name": "FloatProgressModel",
      "_view_count": null,
      "_view_module": "@jupyter-widgets/controls",
      "_view_module_version": "1.5.0",
      "_view_name": "ProgressView",
      "bar_style": "success",
      "description": "",
      "description_tooltip": null,
      "layout": "IPY_MODEL_401ac5195b714b7bae27caddb02d9dae",
      "max": 4422102,
      "min": 0,
      "orientation": "horizontal",
      "style": "IPY_MODEL_edb287c8f5e04532ad5c3760041491e2",
      "value": 4422102
     }
    },
    "ab6012bbe9a54f23aeee9fc8985b0cd7": {
     "model_module": "@jupyter-widgets/base",
     "model_module_version": "1.2.0",
     "model_name": "LayoutModel",
     "state": {
      "_model_module": "@jupyter-widgets/base",
      "_model_module_version": "1.2.0",
      "_model_name": "LayoutModel",
      "_view_count": null,
      "_view_module": "@jupyter-widgets/base",
      "_view_module_version": "1.2.0",
      "_view_name": "LayoutView",
      "align_content": null,
      "align_items": null,
      "align_self": null,
      "border": null,
      "bottom": null,
      "display": null,
      "flex": null,
      "flex_flow": null,
      "grid_area": null,
      "grid_auto_columns": null,
      "grid_auto_flow": null,
      "grid_auto_rows": null,
      "grid_column": null,
      "grid_gap": null,
      "grid_row": null,
      "grid_template_areas": null,
      "grid_template_columns": null,
      "grid_template_rows": null,
      "height": null,
      "justify_content": null,
      "justify_items": null,
      "left": null,
      "margin": null,
      "max_height": null,
      "max_width": null,
      "min_height": null,
      "min_width": null,
      "object_fit": null,
      "object_position": null,
      "order": null,
      "overflow": null,
      "overflow_x": null,
      "overflow_y": null,
      "padding": null,
      "right": null,
      "top": null,
      "visibility": null,
      "width": null
     }
    },
    "abdf432283ea48409849a131e3c84538": {
     "model_module": "@jupyter-widgets/controls",
     "model_module_version": "1.5.0",
     "model_name": "DescriptionStyleModel",
     "state": {
      "_model_module": "@jupyter-widgets/controls",
      "_model_module_version": "1.5.0",
      "_model_name": "DescriptionStyleModel",
      "_view_count": null,
      "_view_module": "@jupyter-widgets/base",
      "_view_module_version": "1.2.0",
      "_view_name": "StyleView",
      "description_width": ""
     }
    },
    "acfbdfba8a594540b7f809ad5a490bee": {
     "model_module": "@jupyter-widgets/controls",
     "model_module_version": "1.5.0",
     "model_name": "HBoxModel",
     "state": {
      "_dom_classes": [],
      "_model_module": "@jupyter-widgets/controls",
      "_model_module_version": "1.5.0",
      "_model_name": "HBoxModel",
      "_view_count": null,
      "_view_module": "@jupyter-widgets/controls",
      "_view_module_version": "1.5.0",
      "_view_name": "HBoxView",
      "box_style": "",
      "children": [
       "IPY_MODEL_dfeb1006d236400cbb3d0e304c8208af",
       "IPY_MODEL_aabc8a2be63b4dcfabe841fb2b22fd95",
       "IPY_MODEL_fb7da5344fdd4e8d9f49da31fa32169a"
      ],
      "layout": "IPY_MODEL_dbb95703595642fbb2979a63e1391149"
     }
    },
    "b844d16570ce447598ddcf3ec084608a": {
     "model_module": "@jupyter-widgets/base",
     "model_module_version": "1.2.0",
     "model_name": "LayoutModel",
     "state": {
      "_model_module": "@jupyter-widgets/base",
      "_model_module_version": "1.2.0",
      "_model_name": "LayoutModel",
      "_view_count": null,
      "_view_module": "@jupyter-widgets/base",
      "_view_module_version": "1.2.0",
      "_view_name": "LayoutView",
      "align_content": null,
      "align_items": null,
      "align_self": null,
      "border": null,
      "bottom": null,
      "display": null,
      "flex": null,
      "flex_flow": null,
      "grid_area": null,
      "grid_auto_columns": null,
      "grid_auto_flow": null,
      "grid_auto_rows": null,
      "grid_column": null,
      "grid_gap": null,
      "grid_row": null,
      "grid_template_areas": null,
      "grid_template_columns": null,
      "grid_template_rows": null,
      "height": null,
      "justify_content": null,
      "justify_items": null,
      "left": null,
      "margin": null,
      "max_height": null,
      "max_width": null,
      "min_height": null,
      "min_width": null,
      "object_fit": null,
      "object_position": null,
      "order": null,
      "overflow": null,
      "overflow_x": null,
      "overflow_y": null,
      "padding": null,
      "right": null,
      "top": null,
      "visibility": null,
      "width": null
     }
    },
    "c265c2e58744434a9896884b4ab8f555": {
     "model_module": "@jupyter-widgets/controls",
     "model_module_version": "1.5.0",
     "model_name": "HTMLModel",
     "state": {
      "_dom_classes": [],
      "_model_module": "@jupyter-widgets/controls",
      "_model_module_version": "1.5.0",
      "_model_name": "HTMLModel",
      "_view_count": null,
      "_view_module": "@jupyter-widgets/controls",
      "_view_module_version": "1.5.0",
      "_view_name": "HTMLView",
      "description": "",
      "description_tooltip": null,
      "layout": "IPY_MODEL_2afdb5134ffd48b5a3ea36fdf13f3ca9",
      "placeholder": "​",
      "style": "IPY_MODEL_5d03cf1d574f4319a78fd194c1802506",
      "value": " 29515/29515 [00:00&lt;00:00, 208316.66it/s]"
     }
    },
    "d6ec914f5ca44a7f884d4b20e901ecf8": {
     "model_module": "@jupyter-widgets/controls",
     "model_module_version": "1.5.0",
     "model_name": "DescriptionStyleModel",
     "state": {
      "_model_module": "@jupyter-widgets/controls",
      "_model_module_version": "1.5.0",
      "_model_name": "DescriptionStyleModel",
      "_view_count": null,
      "_view_module": "@jupyter-widgets/base",
      "_view_module_version": "1.2.0",
      "_view_name": "StyleView",
      "description_width": ""
     }
    },
    "dbb95703595642fbb2979a63e1391149": {
     "model_module": "@jupyter-widgets/base",
     "model_module_version": "1.2.0",
     "model_name": "LayoutModel",
     "state": {
      "_model_module": "@jupyter-widgets/base",
      "_model_module_version": "1.2.0",
      "_model_name": "LayoutModel",
      "_view_count": null,
      "_view_module": "@jupyter-widgets/base",
      "_view_module_version": "1.2.0",
      "_view_name": "LayoutView",
      "align_content": null,
      "align_items": null,
      "align_self": null,
      "border": null,
      "bottom": null,
      "display": null,
      "flex": null,
      "flex_flow": null,
      "grid_area": null,
      "grid_auto_columns": null,
      "grid_auto_flow": null,
      "grid_auto_rows": null,
      "grid_column": null,
      "grid_gap": null,
      "grid_row": null,
      "grid_template_areas": null,
      "grid_template_columns": null,
      "grid_template_rows": null,
      "height": null,
      "justify_content": null,
      "justify_items": null,
      "left": null,
      "margin": null,
      "max_height": null,
      "max_width": null,
      "min_height": null,
      "min_width": null,
      "object_fit": null,
      "object_position": null,
      "order": null,
      "overflow": null,
      "overflow_x": null,
      "overflow_y": null,
      "padding": null,
      "right": null,
      "top": null,
      "visibility": null,
      "width": null
     }
    },
    "dd2d6dfae7f34fa2af3a4f89bd7660bb": {
     "model_module": "@jupyter-widgets/controls",
     "model_module_version": "1.5.0",
     "model_name": "DescriptionStyleModel",
     "state": {
      "_model_module": "@jupyter-widgets/controls",
      "_model_module_version": "1.5.0",
      "_model_name": "DescriptionStyleModel",
      "_view_count": null,
      "_view_module": "@jupyter-widgets/base",
      "_view_module_version": "1.2.0",
      "_view_name": "StyleView",
      "description_width": ""
     }
    },
    "dd328252b2bf4ec994e13e8e6dba2875": {
     "model_module": "@jupyter-widgets/base",
     "model_module_version": "1.2.0",
     "model_name": "LayoutModel",
     "state": {
      "_model_module": "@jupyter-widgets/base",
      "_model_module_version": "1.2.0",
      "_model_name": "LayoutModel",
      "_view_count": null,
      "_view_module": "@jupyter-widgets/base",
      "_view_module_version": "1.2.0",
      "_view_name": "LayoutView",
      "align_content": null,
      "align_items": null,
      "align_self": null,
      "border": null,
      "bottom": null,
      "display": null,
      "flex": null,
      "flex_flow": null,
      "grid_area": null,
      "grid_auto_columns": null,
      "grid_auto_flow": null,
      "grid_auto_rows": null,
      "grid_column": null,
      "grid_gap": null,
      "grid_row": null,
      "grid_template_areas": null,
      "grid_template_columns": null,
      "grid_template_rows": null,
      "height": null,
      "justify_content": null,
      "justify_items": null,
      "left": null,
      "margin": null,
      "max_height": null,
      "max_width": null,
      "min_height": null,
      "min_width": null,
      "object_fit": null,
      "object_position": null,
      "order": null,
      "overflow": null,
      "overflow_x": null,
      "overflow_y": null,
      "padding": null,
      "right": null,
      "top": null,
      "visibility": null,
      "width": null
     }
    },
    "de6746f353614fa2b61e007c811dc6cf": {
     "model_module": "@jupyter-widgets/controls",
     "model_module_version": "1.5.0",
     "model_name": "HTMLModel",
     "state": {
      "_dom_classes": [],
      "_model_module": "@jupyter-widgets/controls",
      "_model_module_version": "1.5.0",
      "_model_name": "HTMLModel",
      "_view_count": null,
      "_view_module": "@jupyter-widgets/controls",
      "_view_module_version": "1.5.0",
      "_view_name": "HTMLView",
      "description": "",
      "description_tooltip": null,
      "layout": "IPY_MODEL_f465c7c665874e06875e5564af85704e",
      "placeholder": "​",
      "style": "IPY_MODEL_f58599fc1d6c4308a21aafb5b15a7f7a",
      "value": "100%"
     }
    },
    "de6d869bae854d598d06dc7d17bb16b6": {
     "model_module": "@jupyter-widgets/base",
     "model_module_version": "1.2.0",
     "model_name": "LayoutModel",
     "state": {
      "_model_module": "@jupyter-widgets/base",
      "_model_module_version": "1.2.0",
      "_model_name": "LayoutModel",
      "_view_count": null,
      "_view_module": "@jupyter-widgets/base",
      "_view_module_version": "1.2.0",
      "_view_name": "LayoutView",
      "align_content": null,
      "align_items": null,
      "align_self": null,
      "border": null,
      "bottom": null,
      "display": null,
      "flex": null,
      "flex_flow": null,
      "grid_area": null,
      "grid_auto_columns": null,
      "grid_auto_flow": null,
      "grid_auto_rows": null,
      "grid_column": null,
      "grid_gap": null,
      "grid_row": null,
      "grid_template_areas": null,
      "grid_template_columns": null,
      "grid_template_rows": null,
      "height": null,
      "justify_content": null,
      "justify_items": null,
      "left": null,
      "margin": null,
      "max_height": null,
      "max_width": null,
      "min_height": null,
      "min_width": null,
      "object_fit": null,
      "object_position": null,
      "order": null,
      "overflow": null,
      "overflow_x": null,
      "overflow_y": null,
      "padding": null,
      "right": null,
      "top": null,
      "visibility": null,
      "width": null
     }
    },
    "de8f202890da499fa532e39882aa39ad": {
     "model_module": "@jupyter-widgets/controls",
     "model_module_version": "1.5.0",
     "model_name": "HTMLModel",
     "state": {
      "_dom_classes": [],
      "_model_module": "@jupyter-widgets/controls",
      "_model_module_version": "1.5.0",
      "_model_name": "HTMLModel",
      "_view_count": null,
      "_view_module": "@jupyter-widgets/controls",
      "_view_module_version": "1.5.0",
      "_view_name": "HTMLView",
      "description": "",
      "description_tooltip": null,
      "layout": "IPY_MODEL_dd328252b2bf4ec994e13e8e6dba2875",
      "placeholder": "​",
      "style": "IPY_MODEL_808f5d3718ba40ad80882d8afcc6b70f",
      "value": "100%"
     }
    },
    "dfeb1006d236400cbb3d0e304c8208af": {
     "model_module": "@jupyter-widgets/controls",
     "model_module_version": "1.5.0",
     "model_name": "HTMLModel",
     "state": {
      "_dom_classes": [],
      "_model_module": "@jupyter-widgets/controls",
      "_model_module_version": "1.5.0",
      "_model_name": "HTMLModel",
      "_view_count": null,
      "_view_module": "@jupyter-widgets/controls",
      "_view_module_version": "1.5.0",
      "_view_name": "HTMLView",
      "description": "",
      "description_tooltip": null,
      "layout": "IPY_MODEL_de6d869bae854d598d06dc7d17bb16b6",
      "placeholder": "​",
      "style": "IPY_MODEL_d6ec914f5ca44a7f884d4b20e901ecf8",
      "value": "100%"
     }
    },
    "edb287c8f5e04532ad5c3760041491e2": {
     "model_module": "@jupyter-widgets/controls",
     "model_module_version": "1.5.0",
     "model_name": "ProgressStyleModel",
     "state": {
      "_model_module": "@jupyter-widgets/controls",
      "_model_module_version": "1.5.0",
      "_model_name": "ProgressStyleModel",
      "_view_count": null,
      "_view_module": "@jupyter-widgets/base",
      "_view_module_version": "1.2.0",
      "_view_name": "StyleView",
      "bar_color": null,
      "description_width": ""
     }
    },
    "eeb96b697cfa48b5add99d3931574ecb": {
     "model_module": "@jupyter-widgets/controls",
     "model_module_version": "1.5.0",
     "model_name": "ProgressStyleModel",
     "state": {
      "_model_module": "@jupyter-widgets/controls",
      "_model_module_version": "1.5.0",
      "_model_name": "ProgressStyleModel",
      "_view_count": null,
      "_view_module": "@jupyter-widgets/base",
      "_view_module_version": "1.2.0",
      "_view_name": "StyleView",
      "bar_color": null,
      "description_width": ""
     }
    },
    "f2efbbf0de6f4245b5ed7b29d62aee7e": {
     "model_module": "@jupyter-widgets/controls",
     "model_module_version": "1.5.0",
     "model_name": "ProgressStyleModel",
     "state": {
      "_model_module": "@jupyter-widgets/controls",
      "_model_module_version": "1.5.0",
      "_model_name": "ProgressStyleModel",
      "_view_count": null,
      "_view_module": "@jupyter-widgets/base",
      "_view_module_version": "1.2.0",
      "_view_name": "StyleView",
      "bar_color": null,
      "description_width": ""
     }
    },
    "f465c7c665874e06875e5564af85704e": {
     "model_module": "@jupyter-widgets/base",
     "model_module_version": "1.2.0",
     "model_name": "LayoutModel",
     "state": {
      "_model_module": "@jupyter-widgets/base",
      "_model_module_version": "1.2.0",
      "_model_name": "LayoutModel",
      "_view_count": null,
      "_view_module": "@jupyter-widgets/base",
      "_view_module_version": "1.2.0",
      "_view_name": "LayoutView",
      "align_content": null,
      "align_items": null,
      "align_self": null,
      "border": null,
      "bottom": null,
      "display": null,
      "flex": null,
      "flex_flow": null,
      "grid_area": null,
      "grid_auto_columns": null,
      "grid_auto_flow": null,
      "grid_auto_rows": null,
      "grid_column": null,
      "grid_gap": null,
      "grid_row": null,
      "grid_template_areas": null,
      "grid_template_columns": null,
      "grid_template_rows": null,
      "height": null,
      "justify_content": null,
      "justify_items": null,
      "left": null,
      "margin": null,
      "max_height": null,
      "max_width": null,
      "min_height": null,
      "min_width": null,
      "object_fit": null,
      "object_position": null,
      "order": null,
      "overflow": null,
      "overflow_x": null,
      "overflow_y": null,
      "padding": null,
      "right": null,
      "top": null,
      "visibility": null,
      "width": null
     }
    },
    "f58599fc1d6c4308a21aafb5b15a7f7a": {
     "model_module": "@jupyter-widgets/controls",
     "model_module_version": "1.5.0",
     "model_name": "DescriptionStyleModel",
     "state": {
      "_model_module": "@jupyter-widgets/controls",
      "_model_module_version": "1.5.0",
      "_model_name": "DescriptionStyleModel",
      "_view_count": null,
      "_view_module": "@jupyter-widgets/base",
      "_view_module_version": "1.2.0",
      "_view_name": "StyleView",
      "description_width": ""
     }
    },
    "fb7da5344fdd4e8d9f49da31fa32169a": {
     "model_module": "@jupyter-widgets/controls",
     "model_module_version": "1.5.0",
     "model_name": "HTMLModel",
     "state": {
      "_dom_classes": [],
      "_model_module": "@jupyter-widgets/controls",
      "_model_module_version": "1.5.0",
      "_model_name": "HTMLModel",
      "_view_count": null,
      "_view_module": "@jupyter-widgets/controls",
      "_view_module_version": "1.5.0",
      "_view_name": "HTMLView",
      "description": "",
      "description_tooltip": null,
      "layout": "IPY_MODEL_418492022d584305b781ef243b35213a",
      "placeholder": "​",
      "style": "IPY_MODEL_abdf432283ea48409849a131e3c84538",
      "value": " 4422102/4422102 [00:01&lt;00:00, 6591138.43it/s]"
     }
    }
   }
  }
 },
 "nbformat": 4,
 "nbformat_minor": 1
}
